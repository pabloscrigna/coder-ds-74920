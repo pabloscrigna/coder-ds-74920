{
  "nbformat": 4,
  "nbformat_minor": 0,
  "metadata": {
    "colab": {
      "provenance": []
    },
    "kernelspec": {
      "name": "python3",
      "display_name": "Python 3"
    },
    "language_info": {
      "name": "python"
    }
  },
  "cells": [
    {
      "cell_type": "code",
      "source": [
        "import pandas as pd\n",
        "import numpy as np"
      ],
      "metadata": {
        "id": "tX5VcNzCpIkc"
      },
      "execution_count": null,
      "outputs": []
    },
    {
      "cell_type": "markdown",
      "source": [
        "### Pandas: Series y Dataframes"
      ],
      "metadata": {
        "id": "9sQaNJXnsazE"
      }
    },
    {
      "cell_type": "markdown",
      "source": [
        "Dos tipos de datos:\n",
        "\n",
        "* Series\n",
        "* Data Frames"
      ],
      "metadata": {
        "id": "F041bj6Pt43S"
      }
    },
    {
      "cell_type": "markdown",
      "source": [
        "1. Creacion de Series a partir de listas"
      ],
      "metadata": {
        "id": "FRqalfe1uBYw"
      }
    },
    {
      "cell_type": "code",
      "source": [
        "numeros = list(range(10))"
      ],
      "metadata": {
        "id": "y8VbBzWhsfm5"
      },
      "execution_count": null,
      "outputs": []
    },
    {
      "cell_type": "code",
      "source": [
        "numeros"
      ],
      "metadata": {
        "id": "UifWpBDEuMBX"
      },
      "execution_count": null,
      "outputs": []
    },
    {
      "cell_type": "code",
      "source": [
        "serie_numeros = pd.Series(numeros)"
      ],
      "metadata": {
        "id": "mRg4HTQWuUOj"
      },
      "execution_count": null,
      "outputs": []
    },
    {
      "cell_type": "code",
      "source": [
        "serie_numeros"
      ],
      "metadata": {
        "id": "zDabIJpuuYTx"
      },
      "execution_count": null,
      "outputs": []
    },
    {
      "cell_type": "markdown",
      "source": [
        "2. Creacion de Series a partir de diccionarios - Etiquetar los datos"
      ],
      "metadata": {
        "id": "XhcHT8EDuchW"
      }
    },
    {
      "cell_type": "code",
      "source": [
        "datos = {'a': 10, 'b': 20, 'c': 30}"
      ],
      "metadata": {
        "id": "SihWDYUeuiG7"
      },
      "execution_count": null,
      "outputs": []
    },
    {
      "cell_type": "code",
      "source": [
        "serie_datos = pd.Series(datos)"
      ],
      "metadata": {
        "id": "mM-61XggutHb"
      },
      "execution_count": null,
      "outputs": []
    },
    {
      "cell_type": "code",
      "source": [
        "serie_datos"
      ],
      "metadata": {
        "id": "CHo5wMj3uzel"
      },
      "execution_count": null,
      "outputs": []
    },
    {
      "cell_type": "markdown",
      "source": [
        "3. Creacion de Data Frames a partir de listas de listas"
      ],
      "metadata": {
        "id": "L9yEh0eAu2l9"
      }
    },
    {
      "cell_type": "code",
      "source": [
        "datos = [[ \"Python Flex\", 50, 3467 ], [\"Java\", 25, 5678], [\"Data Science\", 29, 50190]]"
      ],
      "metadata": {
        "id": "he5b9JUIu2VL"
      },
      "execution_count": null,
      "outputs": []
    },
    {
      "cell_type": "code",
      "source": [
        "columnas = [\"Nombre\", \"Alumnos\", \"Comision\"]"
      ],
      "metadata": {
        "id": "reX6_42lz7f7"
      },
      "execution_count": null,
      "outputs": []
    },
    {
      "cell_type": "code",
      "source": [
        "datos_cursos = pd.DataFrame(data=datos, columns=columnas)"
      ],
      "metadata": {
        "id": "_ZMvRes_z0Gd"
      },
      "execution_count": null,
      "outputs": []
    },
    {
      "cell_type": "code",
      "source": [
        "datos_cursos"
      ],
      "metadata": {
        "id": "cO6Zh3IJ0B9Q"
      },
      "execution_count": null,
      "outputs": []
    },
    {
      "cell_type": "code",
      "source": [
        "type(datos_cursos)"
      ],
      "metadata": {
        "id": "dlMzvKdCJ-za"
      },
      "execution_count": null,
      "outputs": []
    },
    {
      "cell_type": "markdown",
      "source": [
        "Para para para...... por que columns= ???"
      ],
      "metadata": {
        "id": "39TbocJe0Izq"
      }
    },
    {
      "cell_type": "markdown",
      "source": [
        "df = pd.DataFrame(data, index, columns, dtype, copy)\n",
        "\n",
        "***Parámetros principales***\n",
        "* **data**: Datos de entrada (diccionario, lista de listas, NumPy array, etc.).\n",
        "* **index** (opcional): Etiquetas para las filas.\n",
        "* **columns** (opcional): Etiquetas para las columnas.\n",
        "* **dtype** (opcional): Tipo de datos para las columnas.\n",
        "* **copy** (opcional): Si es True, hace una copia de los datos"
      ],
      "metadata": {
        "id": "aXyxBdcM08g-"
      }
    },
    {
      "cell_type": "markdown",
      "source": [
        "4. Creacion de Data Frames a partir de listas de diccionarios"
      ],
      "metadata": {
        "id": "hnHEbTtU1j-Y"
      }
    },
    {
      "cell_type": "code",
      "source": [
        "datos = {\"Nombre\": [\"Python Flex\", \"Java\", \"Data Science\"], \"Alumnos\": [50, 25, 29], \"Comision\": [3467, 5678, 50190]}"
      ],
      "metadata": {
        "id": "Hz80UCUS072y"
      },
      "execution_count": null,
      "outputs": []
    },
    {
      "cell_type": "code",
      "source": [
        "df = pd.DataFrame(datos)"
      ],
      "metadata": {
        "id": "v5TnezCQ2VoX"
      },
      "execution_count": null,
      "outputs": []
    },
    {
      "cell_type": "code",
      "source": [
        "df"
      ],
      "metadata": {
        "id": "W3gMXm7z2Y3X"
      },
      "execution_count": null,
      "outputs": []
    },
    {
      "cell_type": "markdown",
      "source": [
        "### Pandas: Accedo a datos en Series y Dataframes"
      ],
      "metadata": {
        "id": "pKRY7p-u2gIf"
      }
    },
    {
      "cell_type": "markdown",
      "source": [
        "acceso a una serie por indice"
      ],
      "metadata": {
        "id": "ol4hSVKC2oJG"
      }
    },
    {
      "cell_type": "code",
      "source": [
        "serie_datos"
      ],
      "metadata": {
        "id": "yKh8MIB-2lE4"
      },
      "execution_count": null,
      "outputs": []
    },
    {
      "cell_type": "code",
      "source": [
        "serie_datos['b']"
      ],
      "metadata": {
        "id": "iq57woiA2u91"
      },
      "execution_count": null,
      "outputs": []
    },
    {
      "cell_type": "code",
      "source": [
        "serie_datos.iloc[0]"
      ],
      "metadata": {
        "id": "pDoQY_Qx22ew"
      },
      "execution_count": null,
      "outputs": []
    },
    {
      "cell_type": "markdown",
      "source": [
        "dataframe"
      ],
      "metadata": {
        "id": "ZuBWWmdV3CgL"
      }
    },
    {
      "cell_type": "code",
      "source": [
        "df['Nombre']"
      ],
      "metadata": {
        "id": "x80Ebk943EJd"
      },
      "execution_count": null,
      "outputs": []
    },
    {
      "cell_type": "markdown",
      "source": [
        "### Operaciones basicas en Dataframes"
      ],
      "metadata": {
        "id": "c-cI67Pp3f6J"
      }
    },
    {
      "cell_type": "markdown",
      "source": [
        "Pandas es una de las bibliotecas más poderosas y versátiles para la manipulación y análisis de datos en Python. Entre las operaciones más comunes que se pueden realizar en los DataFrames de Pandas se encuentran la selección, el filtrado y la agregación de datos.\n",
        "A continuación, se describe cómo realizar cada una de estas operaciones:"
      ],
      "metadata": {
        "id": "wC_dvDLK5-xM"
      }
    },
    {
      "cell_type": "markdown",
      "source": [
        "Antes....veamos como abrir un archivo en collab"
      ],
      "metadata": {
        "id": "w4wqFNU05C_G"
      }
    },
    {
      "cell_type": "code",
      "source": [
        "from google.colab import drive\n",
        "drive.mount('/content/drive/')"
      ],
      "metadata": {
        "id": "y93glX7k3q3h"
      },
      "execution_count": null,
      "outputs": []
    },
    {
      "cell_type": "code",
      "source": [
        "!ls /content/drive/My\\ Drive/"
      ],
      "metadata": {
        "id": "YtqvRdlW3ybK"
      },
      "execution_count": null,
      "outputs": []
    },
    {
      "cell_type": "code",
      "source": [
        "!uname"
      ],
      "metadata": {
        "id": "aMvyu4aiSziR"
      },
      "execution_count": null,
      "outputs": []
    },
    {
      "cell_type": "code",
      "source": [
        "!pwd"
      ],
      "metadata": {
        "id": "pZ0j7RkES24i"
      },
      "execution_count": null,
      "outputs": []
    },
    {
      "cell_type": "code",
      "source": [
        "df = pd.read_csv('/content/drive/My Drive/coder-ds/compras-contrataciones-acumar-2024.csv')"
      ],
      "metadata": {
        "id": "olahaQ5A5eDn"
      },
      "execution_count": null,
      "outputs": []
    },
    {
      "cell_type": "code",
      "source": [
        "acumar = pd.read_csv('/content/drive/My Drive/coder-ds/compras-contrataciones-acumar-2024.csv')"
      ],
      "metadata": {
        "id": "npe3vYnYPAqw"
      },
      "execution_count": null,
      "outputs": []
    },
    {
      "cell_type": "code",
      "source": [
        "acumar"
      ],
      "metadata": {
        "id": "5XWYJ_XhPErg"
      },
      "execution_count": null,
      "outputs": []
    },
    {
      "cell_type": "code",
      "source": [
        "df.head()"
      ],
      "metadata": {
        "id": "eQZDKYtc5kfK"
      },
      "execution_count": null,
      "outputs": []
    },
    {
      "cell_type": "code",
      "source": [
        "df.tail()"
      ],
      "metadata": {
        "id": "DjsSgEHw5r19"
      },
      "execution_count": null,
      "outputs": []
    },
    {
      "cell_type": "markdown",
      "source": [
        "1. Seleccion de datos"
      ],
      "metadata": {
        "id": "Cb1bEJJk6MpQ"
      }
    },
    {
      "cell_type": "markdown",
      "source": [
        "* Seleccion de Columnas"
      ],
      "metadata": {
        "id": "mOZdgxiR6baa"
      }
    },
    {
      "cell_type": "code",
      "source": [
        "df.columns"
      ],
      "metadata": {
        "id": "Ob4OjFA86MYe"
      },
      "execution_count": null,
      "outputs": []
    },
    {
      "cell_type": "code",
      "source": [
        "# una sola columna\n",
        "estados = df['proceso_estado']"
      ],
      "metadata": {
        "id": "hy-hH_Np6gt4"
      },
      "execution_count": null,
      "outputs": []
    },
    {
      "cell_type": "markdown",
      "source": [
        "que retorna??"
      ],
      "metadata": {
        "id": "BoWv6PqH6wla"
      }
    },
    {
      "cell_type": "code",
      "source": [
        "type(estados)"
      ],
      "metadata": {
        "id": "-zuqnwmG76oq"
      },
      "execution_count": null,
      "outputs": []
    },
    {
      "cell_type": "code",
      "source": [
        "estados"
      ],
      "metadata": {
        "id": "t8c9G9w467O3"
      },
      "execution_count": null,
      "outputs": []
    },
    {
      "cell_type": "code",
      "source": [
        "# dos columnas\n",
        "\n",
        "nombre_estado = df[['proceso_nombre', 'proceso_estado']]"
      ],
      "metadata": {
        "id": "uoQKsb1o7FO-"
      },
      "execution_count": null,
      "outputs": []
    },
    {
      "cell_type": "markdown",
      "source": [
        "y ahora que retorna?"
      ],
      "metadata": {
        "id": "GlrNvQrz7euA"
      }
    },
    {
      "cell_type": "code",
      "source": [
        "type(nombre_estado)"
      ],
      "metadata": {
        "id": "XRjesjP979Bz"
      },
      "execution_count": null,
      "outputs": []
    },
    {
      "cell_type": "code",
      "source": [
        "nombre_estado"
      ],
      "metadata": {
        "id": "ustQjYms7gR1"
      },
      "execution_count": null,
      "outputs": []
    },
    {
      "cell_type": "markdown",
      "source": [
        "* Seleccion de filas"
      ],
      "metadata": {
        "id": "Lu7LEf798AbH"
      }
    },
    {
      "cell_type": "code",
      "source": [
        "df.loc[0]"
      ],
      "metadata": {
        "id": "-3soj9VC8FxB"
      },
      "execution_count": null,
      "outputs": []
    },
    {
      "cell_type": "code",
      "source": [
        "df.iloc[5]"
      ],
      "metadata": {
        "id": "w1WAKZMb8YNY"
      },
      "execution_count": null,
      "outputs": []
    },
    {
      "cell_type": "markdown",
      "source": [
        "2. Filtrado de datos"
      ],
      "metadata": {
        "id": "7eaezyXI8iHl"
      }
    },
    {
      "cell_type": "markdown",
      "source": [
        "El filtrado de datos implica la selección de filas que cumplen con una o más condiciones. Esto es útil para analizar subconjuntos específicos de los datos."
      ],
      "metadata": {
        "id": "VGpiornM8nbF"
      }
    },
    {
      "cell_type": "markdown",
      "source": [
        "* Filtrado Simple"
      ],
      "metadata": {
        "id": "pxpFkR5l9f-M"
      }
    },
    {
      "cell_type": "code",
      "source": [
        "df_filtrado = df[df['proceso_estado'] == 'Finalizado']"
      ],
      "metadata": {
        "id": "K8UJ919x8o80"
      },
      "execution_count": null,
      "outputs": []
    },
    {
      "cell_type": "code",
      "source": [
        "df_filtrado"
      ],
      "metadata": {
        "id": "ApJRTJlM9s8t"
      },
      "execution_count": null,
      "outputs": []
    },
    {
      "cell_type": "markdown",
      "source": [
        "Veamos que vaores hay....."
      ],
      "metadata": {
        "id": "XainkY4u9__N"
      }
    },
    {
      "cell_type": "code",
      "source": [
        "df['proceso_estado'].value_counts()"
      ],
      "metadata": {
        "id": "zbHRnYit9847"
      },
      "execution_count": null,
      "outputs": []
    },
    {
      "cell_type": "code",
      "source": [
        "df_filtrado = df[df['proceso_estado'] == 'Desierto']"
      ],
      "metadata": {
        "id": "MvCINGv_-UFO"
      },
      "execution_count": null,
      "outputs": []
    },
    {
      "cell_type": "code",
      "source": [
        "type(df_filtrado)"
      ],
      "metadata": {
        "id": "udaQ_MzG-YG0"
      },
      "execution_count": null,
      "outputs": []
    },
    {
      "cell_type": "code",
      "source": [
        "df_filtrado"
      ],
      "metadata": {
        "id": "OIEApnSS-cMC"
      },
      "execution_count": null,
      "outputs": []
    },
    {
      "cell_type": "markdown",
      "source": [
        "vamos a volver con el filtrado mas adelante....."
      ],
      "metadata": {
        "id": "0ZmSDN2fBpJH"
      }
    },
    {
      "cell_type": "markdown",
      "source": [
        "3. Agregacion de datos"
      ],
      "metadata": {
        "id": "e1F63pfBBt9V"
      }
    },
    {
      "cell_type": "markdown",
      "source": [
        "La agregación de datos permite resumir o combinar los datos de manera significativa, por ejemplo, obteniendo el promedio, la suma, el conteo, etc."
      ],
      "metadata": {
        "id": "O1hOI4ZOB0CK"
      }
    },
    {
      "cell_type": "markdown",
      "source": [
        "Agregacion simple"
      ],
      "metadata": {
        "id": "4mOntvNDJHFv"
      }
    },
    {
      "cell_type": "code",
      "source": [
        "# agregamos una columna \"proceso_costo\"\n",
        "df['proceso_costo'] = np.random.randint(1, 101, size=len(df))"
      ],
      "metadata": {
        "id": "vzmSvfxwBw7m"
      },
      "execution_count": null,
      "outputs": []
    },
    {
      "cell_type": "code",
      "source": [
        "df.columns"
      ],
      "metadata": {
        "id": "FSm8TyxmCrMf"
      },
      "execution_count": null,
      "outputs": []
    },
    {
      "cell_type": "code",
      "source": [
        "df.head()"
      ],
      "metadata": {
        "id": "acckKDkiUSZ8"
      },
      "execution_count": null,
      "outputs": []
    },
    {
      "cell_type": "markdown",
      "source": [
        "Filtado con multiples condiciones"
      ],
      "metadata": {
        "id": "DBb4HzCTDhTn"
      }
    },
    {
      "cell_type": "code",
      "source": [
        "df_filtrado = df[(df['proceso_estado'] == 'Adjudicado') & (df['proceso_costo'] > 50)]"
      ],
      "metadata": {
        "id": "jpcAvbVxDlS4"
      },
      "execution_count": null,
      "outputs": []
    },
    {
      "cell_type": "code",
      "source": [
        "df_filtrado"
      ],
      "metadata": {
        "id": "j96-q87ID1yS"
      },
      "execution_count": null,
      "outputs": []
    },
    {
      "cell_type": "code",
      "source": [
        "df.dtypes"
      ],
      "metadata": {
        "id": "oifbhpqWVg3p"
      },
      "execution_count": null,
      "outputs": []
    },
    {
      "cell_type": "code",
      "source": [
        "costo = input(\"Ingrese el costo: \")"
      ],
      "metadata": {
        "id": "adrVQj_qED_k"
      },
      "execution_count": null,
      "outputs": []
    },
    {
      "cell_type": "code",
      "source": [
        "costo = int(costo)"
      ],
      "metadata": {
        "id": "0ROMiEdhVSJu"
      },
      "execution_count": null,
      "outputs": []
    },
    {
      "cell_type": "code",
      "source": [
        "df_filtrado = df[(df['proceso_estado'] == 'Adjudicado') & (df['proceso_costo'] > costo)]"
      ],
      "metadata": {
        "id": "9ABM-MLnEHxd"
      },
      "execution_count": null,
      "outputs": []
    },
    {
      "cell_type": "code",
      "source": [
        "df_filtrado"
      ],
      "metadata": {
        "id": "JoScohpZE29-"
      },
      "execution_count": null,
      "outputs": []
    },
    {
      "cell_type": "markdown",
      "source": [
        "Agregacion agrupada"
      ],
      "metadata": {
        "id": "nWw9JGO_I4mo"
      }
    },
    {
      "cell_type": "code",
      "source": [
        "resultado = df['proceso_costo'].sum()"
      ],
      "metadata": {
        "id": "PASBfX8aJPnm"
      },
      "execution_count": null,
      "outputs": []
    },
    {
      "cell_type": "code",
      "source": [
        "type(resultado)"
      ],
      "metadata": {
        "id": "jOY1Pm8xJXF-"
      },
      "execution_count": null,
      "outputs": []
    },
    {
      "cell_type": "code",
      "source": [
        "resultado"
      ],
      "metadata": {
        "id": "vD5z4Ad-JZ7B"
      },
      "execution_count": null,
      "outputs": []
    },
    {
      "cell_type": "code",
      "source": [
        "df['proceso_costo'].mean()"
      ],
      "metadata": {
        "id": "y8PxI6EkJlAD"
      },
      "execution_count": null,
      "outputs": []
    },
    {
      "cell_type": "code",
      "source": [
        "df['proceso_costo'].max()"
      ],
      "metadata": {
        "id": "tQJDX3XtJpTx"
      },
      "execution_count": null,
      "outputs": []
    },
    {
      "cell_type": "code",
      "source": [
        "df['proceso_costo'].min()"
      ],
      "metadata": {
        "id": "t3DoTzGpJugf"
      },
      "execution_count": null,
      "outputs": []
    },
    {
      "cell_type": "code",
      "source": [
        "df['proceso_costo'].count()"
      ],
      "metadata": {
        "id": "JGoduN4mJb5Y"
      },
      "execution_count": null,
      "outputs": []
    },
    {
      "cell_type": "code",
      "source": [
        "df.groupby('proceso_estado')['proceso_costo'].mean()"
      ],
      "metadata": {
        "id": "oo7fYMccJ04r"
      },
      "execution_count": null,
      "outputs": []
    },
    {
      "cell_type": "code",
      "source": [
        "df.groupby('proceso_estado')['proceso_costo'].sum()"
      ],
      "metadata": {
        "id": "yEynrEJPKE6x"
      },
      "execution_count": null,
      "outputs": []
    },
    {
      "cell_type": "code",
      "source": [
        "df.groupby('proceso_tipo').agg({'proceso_costo': ['mean','sum']})"
      ],
      "metadata": {
        "id": "p9HUtbx7KXQF"
      },
      "execution_count": null,
      "outputs": []
    },
    {
      "cell_type": "markdown",
      "source": [
        "### Manejo de datos ausentes"
      ],
      "metadata": {
        "id": "CQB0hi8sKo9D"
      }
    },
    {
      "cell_type": "markdown",
      "source": [
        "En el análisis de datos, es común encontrarse con conjuntos de datos incompletos que contienen valores ausentes o nulos. Pandas proporciona diversas técnicas para manejar estos valores, incluyendo la imputación y la eliminación de datos ausentes. A continuación, se describen los métodos más comunes para manejar datos ausentes en DataFrames utilizando Pandas, así como técnicas avanzadas de imputación con Scikit-Learn."
      ],
      "metadata": {
        "id": "0bpapXIsK8qw"
      }
    },
    {
      "cell_type": "markdown",
      "source": [
        "Identificacion de datos ausentes - Detectar valores ausentes"
      ],
      "metadata": {
        "id": "0bQnfYoxLAsz"
      }
    },
    {
      "cell_type": "markdown",
      "source": [
        "nan= Not a number"
      ],
      "metadata": {
        "id": "uzn63PmXW81A"
      }
    },
    {
      "cell_type": "code",
      "source": [
        "# generamos algunos valores ausentes\n",
        "df.loc[df['proceso_costo'] < 40, \"proceso_costo\"] = np.nan"
      ],
      "metadata": {
        "id": "8OBniMM-K0Hl"
      },
      "execution_count": null,
      "outputs": []
    },
    {
      "cell_type": "code",
      "source": [
        "df"
      ],
      "metadata": {
        "id": "W5vnOBEhMRQF"
      },
      "execution_count": null,
      "outputs": []
    },
    {
      "cell_type": "code",
      "source": [
        "df.isnull()"
      ],
      "metadata": {
        "id": "HOXOSWbUMKHZ"
      },
      "execution_count": null,
      "outputs": []
    },
    {
      "cell_type": "code",
      "source": [
        "df.isnull().sum()"
      ],
      "metadata": {
        "id": "4vfZmElkMesu"
      },
      "execution_count": null,
      "outputs": []
    },
    {
      "cell_type": "markdown",
      "source": [
        "Eliminacion de datos ausentes"
      ],
      "metadata": {
        "id": "8msaH1_lMkzV"
      }
    },
    {
      "cell_type": "markdown",
      "source": [
        "* Eliminar filas con valores nulos"
      ],
      "metadata": {
        "id": "gRVxZ9VIMul6"
      }
    },
    {
      "cell_type": "code",
      "source": [
        "df_new = df.dropna()"
      ],
      "metadata": {
        "id": "Qig4zr2hMplG"
      },
      "execution_count": null,
      "outputs": []
    },
    {
      "cell_type": "code",
      "source": [
        "df.isnull().sum()"
      ],
      "metadata": {
        "id": "lEHhXa27M6Ex"
      },
      "execution_count": null,
      "outputs": []
    },
    {
      "cell_type": "code",
      "source": [
        "df.shape"
      ],
      "metadata": {
        "id": "iPbsHVcRYCsF"
      },
      "execution_count": null,
      "outputs": []
    },
    {
      "cell_type": "code",
      "source": [
        "df_new.isnull().sum()"
      ],
      "metadata": {
        "id": "DcBkFZBXX8fn"
      },
      "execution_count": null,
      "outputs": []
    },
    {
      "cell_type": "code",
      "source": [
        "df_new.shape"
      ],
      "metadata": {
        "id": "IO55gqhgYHxV"
      },
      "execution_count": null,
      "outputs": []
    },
    {
      "cell_type": "code",
      "source": [
        "# Borra las columnas con valores NaN\n",
        "df.dropna(axis=1)"
      ],
      "metadata": {
        "id": "QiaceQONNFSg"
      },
      "execution_count": null,
      "outputs": []
    },
    {
      "cell_type": "code",
      "source": [
        "# borra en el dataframe df\n",
        "#df.dropna(inplace=True)"
      ],
      "metadata": {
        "id": "75oSRwoPNK1q"
      },
      "execution_count": null,
      "outputs": []
    },
    {
      "cell_type": "markdown",
      "source": [
        "Imputación de Datos Ausentes"
      ],
      "metadata": {
        "id": "f8K-MqOCNqVU"
      }
    },
    {
      "cell_type": "markdown",
      "source": [
        "- La imputación consiste en reemplazar los valores ausentes con valores estimados. Pandas ofrece métodos básicos para imputar datos, como rellenar con un valor constante o con estadísticas como la media."
      ],
      "metadata": {
        "id": "T2yP0wGsNrAp"
      }
    },
    {
      "cell_type": "code",
      "source": [
        "df.head()"
      ],
      "metadata": {
        "id": "uvpa3ImFY4tw"
      },
      "execution_count": null,
      "outputs": []
    },
    {
      "cell_type": "code",
      "source": [
        "# rellenar con un valor constante:\n",
        "df.fillna(100)"
      ],
      "metadata": {
        "id": "NfwNZXfKNuM8"
      },
      "execution_count": null,
      "outputs": []
    },
    {
      "cell_type": "code",
      "source": [
        "df['proceso_costo'] = df['proceso_costo'].fillna(df['proceso_costo'].mean())"
      ],
      "metadata": {
        "id": "HrtNrRPIOH2r"
      },
      "execution_count": null,
      "outputs": []
    },
    {
      "cell_type": "code",
      "source": [
        "df['proceso_costo'].mean()"
      ],
      "metadata": {
        "id": "O0maBP3tObRj"
      },
      "execution_count": null,
      "outputs": []
    },
    {
      "cell_type": "code",
      "source": [
        "df.head()"
      ],
      "metadata": {
        "id": "M6xFmwIrY_Hi"
      },
      "execution_count": null,
      "outputs": []
    },
    {
      "cell_type": "code",
      "source": [
        "df.isnull().sum()"
      ],
      "metadata": {
        "id": "dpg3Vg13ZCnv"
      },
      "execution_count": null,
      "outputs": []
    },
    {
      "cell_type": "markdown",
      "source": [
        "Imputación Avanzada utilizando Scikit-Learn"
      ],
      "metadata": {
        "id": "QOkFF5D5OktA"
      }
    },
    {
      "cell_type": "code",
      "source": [
        "# volvemos a generar algunos valores ausentes\n",
        "df.loc[df['proceso_costo'] < 70, \"proceso_costo\"] = np.nan"
      ],
      "metadata": {
        "id": "HMjr9EHfOl_6"
      },
      "execution_count": null,
      "outputs": []
    },
    {
      "cell_type": "code",
      "source": [
        "df.isnull()"
      ],
      "metadata": {
        "id": "f8uR23NrOzJU"
      },
      "execution_count": null,
      "outputs": []
    },
    {
      "cell_type": "markdown",
      "source": [
        "Imputación utilizando SimpleImputer de Scikit-Learn:"
      ],
      "metadata": {
        "id": "ud0omHh6PZLW"
      }
    },
    {
      "cell_type": "markdown",
      "source": [
        "Que es Scikit-Learn?\n",
        "\n",
        "La Librería de Machine Learning en Python\n",
        "Scikit-Learn es una librería de aprendizaje automático (Machine Learning) en Python, construida sobre NumPy, SciPy y Matplotlib. Es una de las herramientas más populares para tareas de clasificación, regresión, clustering y reducción de dimensionalidad."
      ],
      "metadata": {
        "id": "lz0Vw20bPolu"
      }
    },
    {
      "cell_type": "code",
      "source": [
        "# importamos la libreria\n",
        "from sklearn.impute import SimpleImputer"
      ],
      "metadata": {
        "id": "-0aV79fzPwsh"
      },
      "execution_count": null,
      "outputs": []
    },
    {
      "cell_type": "code",
      "source": [
        "# Crear el imputador con la estrategia 'mean' para reemplazar NaN con la media\n",
        "imputer = SimpleImputer(strategy='mean')  # Otras opciones: 'median', 'most_frequent', 'constant'"
      ],
      "metadata": {
        "id": "vD8GUPBMQR45"
      },
      "execution_count": null,
      "outputs": []
    },
    {
      "cell_type": "code",
      "source": [
        "df['proceso_costo'].mean()"
      ],
      "metadata": {
        "id": "JdbNc4sUQ8HM"
      },
      "execution_count": null,
      "outputs": []
    },
    {
      "cell_type": "code",
      "source": [
        "# Imputar valores faltantes en las columnas que le pasamos\n",
        "df[['proceso_costo']] = imputer.fit_transform(df[['proceso_costo']])"
      ],
      "metadata": {
        "id": "EDDHvCuJQW5v"
      },
      "execution_count": null,
      "outputs": []
    },
    {
      "cell_type": "code",
      "source": [
        "df"
      ],
      "metadata": {
        "id": "3oSIkDnTQqsM"
      },
      "execution_count": null,
      "outputs": []
    },
    {
      "cell_type": "markdown",
      "source": [
        "Imputación basada en K-Nearest Neighbors (KNN):"
      ],
      "metadata": {
        "id": "O76CQzybRYQ_"
      }
    },
    {
      "cell_type": "code",
      "source": [
        "# generamos algunos valores ausentes\n",
        "df.loc[df['proceso_costo'] < 87, \"proceso_costo\"] = np.nan"
      ],
      "metadata": {
        "id": "Ar_S23UBR7yU"
      },
      "execution_count": null,
      "outputs": []
    },
    {
      "cell_type": "code",
      "source": [
        "df"
      ],
      "metadata": {
        "id": "0uoGHhNbR--Y"
      },
      "execution_count": null,
      "outputs": []
    },
    {
      "cell_type": "code",
      "source": [
        "from sklearn.impute import KNNImputer"
      ],
      "metadata": {
        "id": "A4oS-VPjRdEc"
      },
      "execution_count": null,
      "outputs": []
    },
    {
      "cell_type": "code",
      "source": [
        "# Crear el imputador con k vecinos más cercanos (k=2)\n",
        "imputer = KNNImputer(n_neighbors=2)"
      ],
      "metadata": {
        "id": "p196BtSxRo3I"
      },
      "execution_count": null,
      "outputs": []
    },
    {
      "cell_type": "code",
      "source": [
        "# Imputar los valores faltantes en las columnas\n",
        "df[['proceso_costo']] = imputer.fit_transform(df[['proceso_costo']])"
      ],
      "metadata": {
        "id": "cxwpphC6Rxdt"
      },
      "execution_count": null,
      "outputs": []
    },
    {
      "cell_type": "code",
      "source": [
        "df"
      ],
      "metadata": {
        "id": "r4lZMc7ESLAp"
      },
      "execution_count": null,
      "outputs": []
    },
    {
      "cell_type": "markdown",
      "source": [
        "### Manejo de strings con pandas"
      ],
      "metadata": {
        "id": "nbJd1PufSXgz"
      }
    },
    {
      "cell_type": "code",
      "source": [
        "df = pd.read_csv('/content/drive/My Drive/samples/compras-contrataciones-acumar-2024.csv')"
      ],
      "metadata": {
        "id": "Ca_oHPG8SXLR"
      },
      "execution_count": null,
      "outputs": []
    },
    {
      "cell_type": "code",
      "source": [
        "# agregamos una columna \"proceso_costo\"\n",
        "df['proceso_costo'] = np.random.randint(1, 101, size=len(df))"
      ],
      "metadata": {
        "id": "_mxPt-FDUWli"
      },
      "execution_count": null,
      "outputs": []
    },
    {
      "cell_type": "code",
      "source": [
        "df.head()"
      ],
      "metadata": {
        "id": "7xjZvagiUX-R"
      },
      "execution_count": null,
      "outputs": []
    },
    {
      "cell_type": "code",
      "source": [
        "# pasar a mayusculas\n",
        "df['proceso_nombre'] = df['proceso_nombre'].str.upper()"
      ],
      "metadata": {
        "id": "oUDG-YeeUeWo"
      },
      "execution_count": null,
      "outputs": []
    },
    {
      "cell_type": "code",
      "source": [
        "df.head()"
      ],
      "metadata": {
        "id": "JTlunBDfUumu"
      },
      "execution_count": null,
      "outputs": []
    },
    {
      "cell_type": "markdown",
      "source": [
        "Separacion de texto"
      ],
      "metadata": {
        "id": "yCpuuRKEVUn7"
      }
    },
    {
      "cell_type": "code",
      "source": [
        "frase  = \"Python es un lenguaje de-programación poderoso-y-versátil\""
      ],
      "metadata": {
        "id": "yqSLzBVLaYtW"
      },
      "execution_count": null,
      "outputs": []
    },
    {
      "cell_type": "code",
      "source": [
        "frase.split(\"-\")"
      ],
      "metadata": {
        "id": "VA0k0iIGab7I"
      },
      "execution_count": null,
      "outputs": []
    },
    {
      "cell_type": "code",
      "source": [
        "df[\"año\"] = df[\"proceso_fecha\"].str.split(\"-\").str[0]"
      ],
      "metadata": {
        "id": "wSeD6AmpU2VM"
      },
      "execution_count": null,
      "outputs": []
    },
    {
      "cell_type": "code",
      "source": [
        "df.head()"
      ],
      "metadata": {
        "id": "HrrU-1z4VOBV"
      },
      "execution_count": null,
      "outputs": []
    },
    {
      "cell_type": "markdown",
      "source": [
        "¿Como separarian por hora?"
      ],
      "metadata": {
        "id": "Zku7vl6UVgsE"
      }
    },
    {
      "cell_type": "code",
      "source": [],
      "metadata": {
        "id": "jivHWMhKVkWN"
      },
      "execution_count": null,
      "outputs": []
    },
    {
      "cell_type": "markdown",
      "source": [
        "Reemplazo de texto"
      ],
      "metadata": {
        "id": "o55g4LElVsIs"
      }
    },
    {
      "cell_type": "code",
      "source": [
        "df.columns"
      ],
      "metadata": {
        "id": "tndSlGZdVumG"
      },
      "execution_count": null,
      "outputs": []
    },
    {
      "cell_type": "code",
      "source": [
        "df[\"proceso_tipo\"].values"
      ],
      "metadata": {
        "id": "pqVylg2mXQAM"
      },
      "execution_count": null,
      "outputs": []
    },
    {
      "cell_type": "code",
      "source": [
        "df['proceso_tipo'] = df['proceso_tipo'].str.replace(' ', '_')"
      ],
      "metadata": {
        "id": "s0v3bawCYClo"
      },
      "execution_count": null,
      "outputs": []
    },
    {
      "cell_type": "code",
      "source": [
        "df.head()"
      ],
      "metadata": {
        "id": "7v9r3xdfYMRM"
      },
      "execution_count": null,
      "outputs": []
    },
    {
      "cell_type": "markdown",
      "source": [
        "por que a veces van () y otras veces no?\n",
        "\n",
        "values\n",
        "head()"
      ],
      "metadata": {
        "id": "km7CSwRgYQ_1"
      }
    },
    {
      "cell_type": "code",
      "source": [
        "# cuando es parentesis ----> llamando a un metodo\n",
        "# cuando no hay parentesis es un atributo"
      ],
      "metadata": {
        "id": "Up4sshLRbrUx"
      },
      "execution_count": null,
      "outputs": []
    },
    {
      "cell_type": "markdown",
      "source": [
        "Eliminar espacios en blanco --- fundamental!!!!"
      ],
      "metadata": {
        "id": "Vvg2uaeiVvE2"
      }
    },
    {
      "cell_type": "code",
      "source": [
        "df['proceso_nombre']=df['proceso_nombre'].str.strip()"
      ],
      "metadata": {
        "id": "LkUT66l6YeWk"
      },
      "execution_count": null,
      "outputs": []
    },
    {
      "cell_type": "markdown",
      "source": [
        "\"Final\"  \"Final \""
      ],
      "metadata": {
        "id": "vAU4eZ7dcQF_"
      }
    },
    {
      "cell_type": "markdown",
      "source": [
        "Deteccion de patrones"
      ],
      "metadata": {
        "id": "-zSZwSE2YneO"
      }
    },
    {
      "cell_type": "code",
      "source": [
        "df_filtrado = df[df['proceso_nombre'].str.contains('Contratación')]"
      ],
      "metadata": {
        "id": "CaDP7dNgYr98"
      },
      "execution_count": null,
      "outputs": []
    },
    {
      "cell_type": "code",
      "source": [
        "df_filtrado.head()"
      ],
      "metadata": {
        "id": "LP6nJF7_YvDy"
      },
      "execution_count": null,
      "outputs": []
    },
    {
      "cell_type": "code",
      "source": [
        "df.head()"
      ],
      "metadata": {
        "id": "LsmjtNuiZirY"
      },
      "execution_count": null,
      "outputs": []
    },
    {
      "cell_type": "markdown",
      "source": [
        "### Series de Tiempo"
      ],
      "metadata": {
        "id": "wO6_z_PPZzw_"
      }
    },
    {
      "cell_type": "markdown",
      "source": [
        "El análisis de series de tiempo permite a los analistas entender patrones pasados, identificar tendencias, hacer predicciones futuras, y tomar decisiones informadas. Las series de tiempo pueden ayudar a descomponer datos en componentes como tendencia, estacionalidad y ruido, proporcionando una visión más clara de los fenómenos observados.\n",
        "\n",
        "Por ejemplo, una empresa puede analizar sus ventas mensuales a lo largo de los años para detectar patrones estacionales y ajustar sus estrategias de marketing en consecuencia. En finanzas, el análisis de series de tiempo es fundamental para modelar y prever el comportamiento de los mercados."
      ],
      "metadata": {
        "id": "w3jhEMwyZ3uW"
      }
    },
    {
      "cell_type": "code",
      "source": [
        "df.dtypes"
      ],
      "metadata": {
        "id": "JtN-mjblaYUd"
      },
      "execution_count": null,
      "outputs": []
    },
    {
      "cell_type": "code",
      "source": [
        "df['proceso_fecha'] = pd.to_datetime(df['proceso_fecha'])"
      ],
      "metadata": {
        "id": "Y1fFxhcUagTL"
      },
      "execution_count": null,
      "outputs": []
    },
    {
      "cell_type": "code",
      "source": [
        "df.dtypes"
      ],
      "metadata": {
        "id": "CmBX_tWiaqhf"
      },
      "execution_count": null,
      "outputs": []
    },
    {
      "cell_type": "code",
      "source": [
        "costo_mensual = df.groupby(df['proceso_fecha'].dt.to_period('M'))['proceso_costo'].mean()"
      ],
      "metadata": {
        "id": "BBvcfyOZawyA"
      },
      "execution_count": null,
      "outputs": []
    },
    {
      "cell_type": "code",
      "source": [
        "costo_mensual"
      ],
      "metadata": {
        "id": "kJIx50Uwa3O7"
      },
      "execution_count": null,
      "outputs": []
    },
    {
      "cell_type": "markdown",
      "source": [
        "con la hora"
      ],
      "metadata": {
        "id": "gFn0o-NTdrgx"
      }
    },
    {
      "cell_type": "code",
      "source": [
        "# hay que poner una fecha de referencia\n",
        "df['proceso_hora'] = pd.to_datetime('1900-01-01 ' + df['proceso_hora'].astype(str))"
      ],
      "metadata": {
        "id": "4uK7vmQ6dtBz"
      },
      "execution_count": null,
      "outputs": []
    },
    {
      "cell_type": "code",
      "source": [
        "df.dtypes"
      ],
      "metadata": {
        "id": "_qtG4u75d7vQ"
      },
      "execution_count": null,
      "outputs": []
    },
    {
      "cell_type": "code",
      "source": [
        "df.head()"
      ],
      "metadata": {
        "id": "YgZYvi_VeBVr"
      },
      "execution_count": null,
      "outputs": []
    },
    {
      "cell_type": "code",
      "source": [
        "from datetime import timedelta"
      ],
      "metadata": {
        "id": "C6nuazV_gmuS"
      },
      "execution_count": null,
      "outputs": []
    },
    {
      "cell_type": "code",
      "source": [
        "df[\"proceso_hora\"] = df[\"proceso_hora\"] + timedelta(hours=1)\n",
        "# solo la hora\n",
        "df['proceso_hora'] = df['proceso_hora'].dt.time"
      ],
      "metadata": {
        "id": "4rjHQ195eFLU"
      },
      "execution_count": null,
      "outputs": []
    },
    {
      "cell_type": "code",
      "source": [
        "df.head()"
      ],
      "metadata": {
        "id": "OfbwTgUTfWQr"
      },
      "execution_count": null,
      "outputs": []
    }
  ]
}