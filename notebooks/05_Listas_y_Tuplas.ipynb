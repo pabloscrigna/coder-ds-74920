{
  "nbformat": 4,
  "nbformat_minor": 0,
  "metadata": {
    "colab": {
      "provenance": [],
      "collapsed_sections": [
        "Oup5ssScUfHs",
        "EtD8we-_VJ1_",
        "-JDG4UlOtb2Q",
        "av6HKa6ByN7s",
        "_1Ey_pDNsM29",
        "DKqUeAxYvsSr",
        "vsFZuvnJvwR4",
        "QJgYT-_rWUXx",
        "nLzTDg1YJcDy"
      ]
    },
    "kernelspec": {
      "name": "python3",
      "display_name": "Python 3"
    },
    "language_info": {
      "name": "python"
    }
  },
  "cells": [
    {
      "cell_type": "markdown",
      "source": [
        "## 4.Listas, Tuplas, Conjuntos y Diccionarios\n",
        "\n",
        "![green-divider](https://user-images.githubusercontent.com/7065401/52071924-c003ad80-2562-11e9-8297-1c6595f8a7ff.png)"
      ],
      "metadata": {
        "id": "IW8TUC0MBngH"
      }
    },
    {
      "cell_type": "markdown",
      "source": [
        "![purple-divider](https://user-images.githubusercontent.com/7065401/52071927-c1cd7100-2562-11e9-908a-dde91ba14e59.png)\n",
        "\n",
        "### 4.1 Listas"
      ],
      "metadata": {
        "id": "jI7ArL5vNo34"
      }
    },
    {
      "cell_type": "markdown",
      "source": [
        "##### 4.1.1 Introducción a las listas"
      ],
      "metadata": {
        "id": "Oup5ssScUfHs"
      }
    },
    {
      "cell_type": "markdown",
      "source": [
        "En Python, las **listas** son estructuras de datos muy versátiles que permiten **almacenar una colección ordenada de elementos**. A diferencia de otros lenguajes de programación, las listas en Python **pueden contener elementos de diferentes tipos**, incluyendo números, cadenas de texto e incluso otras listas."
      ],
      "metadata": {
        "id": "T_eaVeq3zJp8"
      }
    },
    {
      "cell_type": "markdown",
      "source": [
        "##### 4.1.2 Sintaxis Básica"
      ],
      "metadata": {
        "id": "EtD8we-_VJ1_"
      }
    },
    {
      "cell_type": "markdown",
      "source": [
        "Para definir una lista en Python, se utilizan los corchetes [] y los elementos de la lista se separan por comas."
      ],
      "metadata": {
        "id": "AX5vJiXdVYgl"
      }
    },
    {
      "cell_type": "code",
      "source": [
        "# lista vacia\n",
        "lista = []\n",
        "lista"
      ],
      "metadata": {
        "id": "eg11MRqxXLJ2",
        "colab": {
          "base_uri": "https://localhost:8080/"
        },
        "outputId": "115ab81e-e855-476c-d2e7-a40b33ce0c27"
      },
      "execution_count": 1,
      "outputs": [
        {
          "output_type": "execute_result",
          "data": {
            "text/plain": [
              "[]"
            ]
          },
          "metadata": {},
          "execution_count": 1
        }
      ]
    },
    {
      "cell_type": "code",
      "source": [
        "# ver el tipo de una lista - type\n",
        "type([])"
      ],
      "metadata": {
        "id": "HOq20ULzjKjF",
        "colab": {
          "base_uri": "https://localhost:8080/"
        },
        "outputId": "203c7ed3-2c10-4231-c712-df0ae044a270"
      },
      "execution_count": 2,
      "outputs": [
        {
          "output_type": "execute_result",
          "data": {
            "text/plain": [
              "list"
            ]
          },
          "metadata": {},
          "execution_count": 2
        }
      ]
    },
    {
      "cell_type": "code",
      "source": [
        "# lista de números - int\n",
        "lista_numeros = [1, 2, 3, 4, 5, 6, 7]\n",
        "lista_numeros"
      ],
      "metadata": {
        "id": "MZO-ErtoN5id",
        "colab": {
          "base_uri": "https://localhost:8080/"
        },
        "outputId": "88d45ad2-e684-458a-d4fd-40e19d000df4"
      },
      "execution_count": 4,
      "outputs": [
        {
          "output_type": "execute_result",
          "data": {
            "text/plain": [
              "[1, 2, 3, 4, 5, 6, 7]"
            ]
          },
          "metadata": {},
          "execution_count": 4
        }
      ]
    },
    {
      "cell_type": "code",
      "source": [
        "# lista de cadenas de texto - str\n",
        "lista_textos = [\"a\", \"e\", \"i\", \"o\", \"u\"]\n",
        "lista_textos"
      ],
      "metadata": {
        "id": "ueJ_mL-jOAFt",
        "colab": {
          "base_uri": "https://localhost:8080/"
        },
        "outputId": "fa06c0d1-f308-40ea-a847-af05d46c22c7"
      },
      "execution_count": 5,
      "outputs": [
        {
          "output_type": "execute_result",
          "data": {
            "text/plain": [
              "['a', 'e', 'i', 'o', 'u']"
            ]
          },
          "metadata": {},
          "execution_count": 5
        }
      ]
    },
    {
      "cell_type": "code",
      "source": [
        "# lista heterogenea - distintos tipos de datos\n",
        "lista_heterogenea = [\"a\", 1, 2.5, [1,2]]\n",
        "lista_heterogenea"
      ],
      "metadata": {
        "id": "OK6t--cTjBxH",
        "colab": {
          "base_uri": "https://localhost:8080/"
        },
        "outputId": "09c77c87-c672-47d4-a06a-8a97c1111784"
      },
      "execution_count": 7,
      "outputs": [
        {
          "output_type": "execute_result",
          "data": {
            "text/plain": [
              "['a', 1, 2.5, [1, 2]]"
            ]
          },
          "metadata": {},
          "execution_count": 7
        }
      ]
    },
    {
      "cell_type": "code",
      "source": [
        "# type de los elementos de la lista anterior\n",
        "type(lista_heterogenea[3][0])"
      ],
      "metadata": {
        "id": "pOw3As0ehNJu",
        "colab": {
          "base_uri": "https://localhost:8080/"
        },
        "outputId": "aca4957b-9d08-4a14-856d-0a5719ae8e7e"
      },
      "execution_count": 10,
      "outputs": [
        {
          "output_type": "execute_result",
          "data": {
            "text/plain": [
              "int"
            ]
          },
          "metadata": {},
          "execution_count": 10
        }
      ]
    },
    {
      "cell_type": "code",
      "source": [
        "# coleccion ordenadas de elementos - ¿Que significa?\n",
        "lista1 = [\"a\", \"e\", \"i\"]\n",
        "lista2 = [\"a\", \"e\", \"i\"]\n",
        "\n",
        "lista1 == lista2   # Operador igualdad"
      ],
      "metadata": {
        "id": "3AX-WVswiv4H",
        "colab": {
          "base_uri": "https://localhost:8080/"
        },
        "outputId": "7f52f0b6-9078-45f6-d46f-65d3b7779ae4"
      },
      "execution_count": 11,
      "outputs": [
        {
          "output_type": "execute_result",
          "data": {
            "text/plain": [
              "True"
            ]
          },
          "metadata": {},
          "execution_count": 11
        }
      ]
    },
    {
      "cell_type": "code",
      "source": [
        "lista1 = [\"a\", \"e\", \"i\"]\n",
        "lista2 = [\"e\", \"i\", \"a\"]\n",
        "\n",
        "lista1 == lista2"
      ],
      "metadata": {
        "id": "yPTJMDHLenHv",
        "colab": {
          "base_uri": "https://localhost:8080/"
        },
        "outputId": "ad73e228-cc8f-4dc3-8f3f-adb45e3452c1"
      },
      "execution_count": 12,
      "outputs": [
        {
          "output_type": "execute_result",
          "data": {
            "text/plain": [
              "False"
            ]
          },
          "metadata": {},
          "execution_count": 12
        }
      ]
    },
    {
      "cell_type": "code",
      "source": [
        "# listas con variables\n",
        "\n",
        "nombre = \"J\"\n",
        "apellido = \"S\"\n",
        "edad = 34\n",
        "altura = 4.6\n",
        "\n",
        "lista_datos = [nombre, apellido, edad, altura]\n",
        "lista_datos"
      ],
      "metadata": {
        "id": "fHvzqZpOffso",
        "colab": {
          "base_uri": "https://localhost:8080/"
        },
        "outputId": "708ae60c-57ab-4230-e82e-4273b49d4b0f"
      },
      "execution_count": 13,
      "outputs": [
        {
          "output_type": "execute_result",
          "data": {
            "text/plain": [
              "['J', 'S', 34, 4.6]"
            ]
          },
          "metadata": {},
          "execution_count": 13
        }
      ]
    },
    {
      "cell_type": "markdown",
      "source": [
        "##### 4.1.3 Mutabilidad"
      ],
      "metadata": {
        "id": "-JDG4UlOtb2Q"
      }
    },
    {
      "cell_type": "markdown",
      "source": [
        "\n",
        "En Python, los tipos mutables y inmutables se refieren a si los objetos pueden ser modificados o no después de que se han creado."
      ],
      "metadata": {
        "id": "t6gjHDYViFyT"
      }
    },
    {
      "cell_type": "markdown",
      "source": [
        "**Tipos Inmutables**\n",
        "\n"
      ],
      "metadata": {
        "id": "KXU43gmOili-"
      }
    },
    {
      "cell_type": "markdown",
      "source": [
        "Los objetos inmutables son aquellos cuyo contenido no puede ser cambiado después de que se han creado. Si intentas modificar un objeto inmutable, lo que realmente sucede es que se crea un nuevo objeto con los valores modificados.\n",
        "\n",
        "- int\n",
        "- flot\n",
        "- str\n",
        "- tuple"
      ],
      "metadata": {
        "id": "17DmyMB9irLz"
      }
    },
    {
      "cell_type": "code",
      "source": [
        "# int\n",
        "foo = 5\n",
        "id(foo)"
      ],
      "metadata": {
        "colab": {
          "base_uri": "https://localhost:8080/"
        },
        "id": "naNyyftpisDv",
        "outputId": "b01b20ac-d5e3-4d90-b2ee-6a72cc37f344"
      },
      "execution_count": null,
      "outputs": [
        {
          "output_type": "execute_result",
          "data": {
            "text/plain": [
              "138606302396784"
            ]
          },
          "metadata": {},
          "execution_count": 22
        }
      ]
    },
    {
      "cell_type": "code",
      "source": [
        "foo = 10\n",
        "id(foo)"
      ],
      "metadata": {
        "colab": {
          "base_uri": "https://localhost:8080/"
        },
        "id": "cy084eyJtCMF",
        "outputId": "101ec435-7991-4a10-d7ba-27157864d2ea"
      },
      "execution_count": null,
      "outputs": [
        {
          "output_type": "execute_result",
          "data": {
            "text/plain": [
              "138606302396944"
            ]
          },
          "metadata": {},
          "execution_count": 23
        }
      ]
    },
    {
      "cell_type": "markdown",
      "source": [
        "**Tipos Mutables**"
      ],
      "metadata": {
        "id": "nrhD10W_k7o8"
      }
    },
    {
      "cell_type": "markdown",
      "source": [
        "Los objetos mutables son aquellos cuyo contenido puede ser cambiado después de que se han creado. Cuando se modifica un objeto mutable, no se crea un nuevo objeto, sino que el objeto original se altera.\n",
        "\n",
        "- list  (listas)\n",
        "- dict  (diccionarios)\n",
        "- set   (conjuntos)"
      ],
      "metadata": {
        "id": "so3HBdNBk7PR"
      }
    },
    {
      "cell_type": "code",
      "source": [
        "lista1 = [1,2,3,4,5]\n",
        "id(lista)"
      ],
      "metadata": {
        "colab": {
          "base_uri": "https://localhost:8080/"
        },
        "id": "cWYSylDvteIX",
        "outputId": "876596f5-744e-4be1-a316-929e01b13042"
      },
      "execution_count": 14,
      "outputs": [
        {
          "output_type": "execute_result",
          "data": {
            "text/plain": [
              "134138657545600"
            ]
          },
          "metadata": {},
          "execution_count": 14
        }
      ]
    },
    {
      "cell_type": "code",
      "source": [
        "lista2 = [1,2,3,4,5]\n",
        "id(lista2)"
      ],
      "metadata": {
        "colab": {
          "base_uri": "https://localhost:8080/"
        },
        "id": "mlWoH8OLuCGS",
        "outputId": "d6aa62dd-1a4e-4136-fbb6-21056a306d13"
      },
      "execution_count": 15,
      "outputs": [
        {
          "output_type": "execute_result",
          "data": {
            "text/plain": [
              "134137778670144"
            ]
          },
          "metadata": {},
          "execution_count": 15
        }
      ]
    },
    {
      "cell_type": "markdown",
      "source": [
        "Si bien lista1 y lista2 tienen los mismos elementos, no es la misma lista"
      ],
      "metadata": {
        "id": "lD3czBweuI7m"
      }
    },
    {
      "cell_type": "code",
      "source": [
        "lista1 == lista2"
      ],
      "metadata": {
        "colab": {
          "base_uri": "https://localhost:8080/"
        },
        "id": "VkerX5RFuPW_",
        "outputId": "4ae2c880-f94a-4391-b608-17b5995bb949"
      },
      "execution_count": 16,
      "outputs": [
        {
          "output_type": "execute_result",
          "data": {
            "text/plain": [
              "True"
            ]
          },
          "metadata": {},
          "execution_count": 16
        }
      ]
    },
    {
      "cell_type": "code",
      "source": [
        "lista1 is lista2"
      ],
      "metadata": {
        "colab": {
          "base_uri": "https://localhost:8080/"
        },
        "id": "L7MMdUzduUFG",
        "outputId": "d87896f5-209a-4e9c-882a-5c78c10c09b5"
      },
      "execution_count": 17,
      "outputs": [
        {
          "output_type": "execute_result",
          "data": {
            "text/plain": [
              "False"
            ]
          },
          "metadata": {},
          "execution_count": 17
        }
      ]
    },
    {
      "cell_type": "code",
      "source": [
        "lista1 = lista2"
      ],
      "metadata": {
        "id": "naSXL797uZhc"
      },
      "execution_count": 18,
      "outputs": []
    },
    {
      "cell_type": "code",
      "source": [
        "id(lista1)"
      ],
      "metadata": {
        "colab": {
          "base_uri": "https://localhost:8080/"
        },
        "id": "4eBsTKFeudW2",
        "outputId": "2f003dde-63db-4c4b-a099-334cbd999858"
      },
      "execution_count": 19,
      "outputs": [
        {
          "output_type": "execute_result",
          "data": {
            "text/plain": [
              "134137778670144"
            ]
          },
          "metadata": {},
          "execution_count": 19
        }
      ]
    },
    {
      "cell_type": "code",
      "source": [
        "id(lista2)"
      ],
      "metadata": {
        "colab": {
          "base_uri": "https://localhost:8080/"
        },
        "id": "EHJxuAeYufoF",
        "outputId": "1ad71b52-d6f7-4a7d-95a8-d0a4ac953e22"
      },
      "execution_count": 20,
      "outputs": [
        {
          "output_type": "execute_result",
          "data": {
            "text/plain": [
              "134137778670144"
            ]
          },
          "metadata": {},
          "execution_count": 20
        }
      ]
    },
    {
      "cell_type": "code",
      "source": [
        "lista1 == lista2"
      ],
      "metadata": {
        "colab": {
          "base_uri": "https://localhost:8080/"
        },
        "id": "Cd0xu-CnujrL",
        "outputId": "40414515-bc6e-4ca5-af0b-b67ea13f2edb"
      },
      "execution_count": 21,
      "outputs": [
        {
          "output_type": "execute_result",
          "data": {
            "text/plain": [
              "True"
            ]
          },
          "metadata": {},
          "execution_count": 21
        }
      ]
    },
    {
      "cell_type": "code",
      "source": [
        "lista1 is lista2"
      ],
      "metadata": {
        "colab": {
          "base_uri": "https://localhost:8080/"
        },
        "id": "HV_jA7aYumL3",
        "outputId": "c180441d-7da9-4a85-c35e-a66b21a53ceb"
      },
      "execution_count": 22,
      "outputs": [
        {
          "output_type": "execute_result",
          "data": {
            "text/plain": [
              "True"
            ]
          },
          "metadata": {},
          "execution_count": 22
        }
      ]
    },
    {
      "cell_type": "markdown",
      "source": [
        "En este caso, cualquier cambio que se haga en la lista utilizando lista1, se vera reflejado en lista2 y viceversa."
      ],
      "metadata": {
        "id": "zwVMrg1_uofJ"
      }
    },
    {
      "cell_type": "code",
      "source": [
        "lista1.append(6)\n",
        "lista1"
      ],
      "metadata": {
        "colab": {
          "base_uri": "https://localhost:8080/"
        },
        "id": "Vp22OrAKu0uY",
        "outputId": "06fc3d34-011b-4bd4-9385-1ebf4776c0b4"
      },
      "execution_count": 23,
      "outputs": [
        {
          "output_type": "execute_result",
          "data": {
            "text/plain": [
              "[1, 2, 3, 4, 5, 6]"
            ]
          },
          "metadata": {},
          "execution_count": 23
        }
      ]
    },
    {
      "cell_type": "code",
      "source": [
        "lista2"
      ],
      "metadata": {
        "colab": {
          "base_uri": "https://localhost:8080/"
        },
        "id": "V9If7apnu4Tr",
        "outputId": "c0283f9e-8b0e-40e9-bf4f-3ed1c17b955d"
      },
      "execution_count": 24,
      "outputs": [
        {
          "output_type": "execute_result",
          "data": {
            "text/plain": [
              "[1, 2, 3, 4, 5, 6]"
            ]
          },
          "metadata": {},
          "execution_count": 24
        }
      ]
    },
    {
      "cell_type": "code",
      "source": [
        "lista2 = [1,2,3,4,5]"
      ],
      "metadata": {
        "id": "FVpLgsK5Qhva"
      },
      "execution_count": 26,
      "outputs": []
    },
    {
      "cell_type": "code",
      "source": [
        "lista1 is lista2"
      ],
      "metadata": {
        "colab": {
          "base_uri": "https://localhost:8080/"
        },
        "id": "U_grCwvVQoOC",
        "outputId": "82475958-85cc-46c6-b6c6-679eb5e45b0d"
      },
      "execution_count": 27,
      "outputs": [
        {
          "output_type": "execute_result",
          "data": {
            "text/plain": [
              "False"
            ]
          },
          "metadata": {},
          "execution_count": 27
        }
      ]
    },
    {
      "cell_type": "code",
      "source": [
        "# cambiamos el contenido de la lista y el id sigue siendo el mismo.\n",
        "id(lista1)"
      ],
      "metadata": {
        "colab": {
          "base_uri": "https://localhost:8080/"
        },
        "id": "QoyypoxLvILR",
        "outputId": "ba78911f-a6cd-4466-a0a7-524ed9e2697f"
      },
      "execution_count": 25,
      "outputs": [
        {
          "output_type": "execute_result",
          "data": {
            "text/plain": [
              "134137778670144"
            ]
          },
          "metadata": {},
          "execution_count": 25
        }
      ]
    },
    {
      "cell_type": "markdown",
      "source": [
        "##### 4.1.4 Accesos"
      ],
      "metadata": {
        "id": "av6HKa6ByN7s"
      }
    },
    {
      "cell_type": "markdown",
      "source": [
        "**Acceso por indice**: Los elementos de una lista se pueden acceder utilizando su índice. El índice comienza en 0 para el primer elemento."
      ],
      "metadata": {
        "id": "qXL07Xmm1npt"
      }
    },
    {
      "cell_type": "code",
      "source": [
        "lista_numeros = [1, 2, 3, 4, 5, 6, 7]"
      ],
      "metadata": {
        "id": "Hw86bV901pws"
      },
      "execution_count": 28,
      "outputs": []
    },
    {
      "cell_type": "code",
      "source": [
        "lista_numeros[0]"
      ],
      "metadata": {
        "colab": {
          "base_uri": "https://localhost:8080/"
        },
        "id": "4wg7Z6HK65_J",
        "outputId": "65516da1-baa4-43f3-c977-54a1f689865f"
      },
      "execution_count": 29,
      "outputs": [
        {
          "output_type": "execute_result",
          "data": {
            "text/plain": [
              "1"
            ]
          },
          "metadata": {},
          "execution_count": 29
        }
      ]
    },
    {
      "cell_type": "markdown",
      "source": [
        "**Slicing (Subconjuntos de Listas)**: Python permite extraer subconjuntos de una lista utilizando la técnica de slicing. Esto se hace utilizando el operador : dentro de los corchetes."
      ],
      "metadata": {
        "id": "cTQXnsLb7A4C"
      }
    },
    {
      "cell_type": "code",
      "source": [
        "# Definiendo una lista de números\n",
        "numeros = [0, 1, 2, 3, 4, 5, 6, 7, 8, 9]\n",
        "\n",
        "# Slicing: obteniendo los primeros cinco elementos\n",
        "primeros_cinco = numeros[0:5]  # [0, 1, 2, 3, 4]\n",
        "\n",
        "# Slicing: obteniendo elementos desde el índice 5 hasta el final\n",
        "desde_cinco = numeros[5:]  # [5, 6, 7, 8, 9]\n",
        "\n",
        "# Slicing: obteniendo un subconjunto de elementos\n",
        "sub_lista = numeros[2:7]  # [2, 3, 4, 5, 6]\n",
        "\n",
        "# Slicing con el tercer parámetro (paso):\n",
        "# Obteniendo elementos desde el índice 0 hasta el 9 con un paso de 2\n",
        "pares = numeros[0:10:2]  # [0, 2, 4, 6, 8]"
      ],
      "metadata": {
        "id": "ee0l1bYMHrxs"
      },
      "execution_count": 30,
      "outputs": []
    },
    {
      "cell_type": "code",
      "source": [
        "numeros = [0, 1, 2, 3, 4, 5, 6, 7, 8, 9]"
      ],
      "metadata": {
        "id": "JV9Zr6m7RUw5"
      },
      "execution_count": 31,
      "outputs": []
    },
    {
      "cell_type": "code",
      "source": [
        "len(numeros)"
      ],
      "metadata": {
        "colab": {
          "base_uri": "https://localhost:8080/"
        },
        "id": "vLPlrs5zRknS",
        "outputId": "0f80cd83-019f-4db8-8720-26de532bc41f"
      },
      "execution_count": 33,
      "outputs": [
        {
          "output_type": "execute_result",
          "data": {
            "text/plain": [
              "10"
            ]
          },
          "metadata": {},
          "execution_count": 33
        }
      ]
    },
    {
      "cell_type": "code",
      "source": [
        "numeros[1:len(numeros)-1]"
      ],
      "metadata": {
        "colab": {
          "base_uri": "https://localhost:8080/"
        },
        "id": "Guv4HNddRYlW",
        "outputId": "0cd9e002-605d-49d9-9764-13c0231b0128"
      },
      "execution_count": 35,
      "outputs": [
        {
          "output_type": "execute_result",
          "data": {
            "text/plain": [
              "[1, 2, 3, 4, 5, 6, 7, 8]"
            ]
          },
          "metadata": {},
          "execution_count": 35
        }
      ]
    },
    {
      "cell_type": "markdown",
      "source": [
        "##### 4.1.5 Listas y String -- Similitudes"
      ],
      "metadata": {
        "id": "bIrrBwFJBS4R"
      }
    },
    {
      "cell_type": "code",
      "source": [
        "frase = \"Hola mundo!\""
      ],
      "metadata": {
        "id": "t3oUdwLv6CzE"
      },
      "execution_count": 36,
      "outputs": []
    },
    {
      "cell_type": "code",
      "source": [
        "frase[0]"
      ],
      "metadata": {
        "id": "3K8KY5oS6Gvt",
        "colab": {
          "base_uri": "https://localhost:8080/",
          "height": 35
        },
        "outputId": "05085af5-d4ff-46b4-8a53-b7298d0487f5"
      },
      "execution_count": 37,
      "outputs": [
        {
          "output_type": "execute_result",
          "data": {
            "text/plain": [
              "'H'"
            ],
            "application/vnd.google.colaboratory.intrinsic+json": {
              "type": "string"
            }
          },
          "metadata": {},
          "execution_count": 37
        }
      ]
    },
    {
      "cell_type": "code",
      "source": [
        "frase[1:4]"
      ],
      "metadata": {
        "id": "l_ZLWxfs6Keu",
        "colab": {
          "base_uri": "https://localhost:8080/",
          "height": 35
        },
        "outputId": "11b18fa1-7eb3-4c1c-80cf-06b0abd3072f"
      },
      "execution_count": 38,
      "outputs": [
        {
          "output_type": "execute_result",
          "data": {
            "text/plain": [
              "'ola'"
            ],
            "application/vnd.google.colaboratory.intrinsic+json": {
              "type": "string"
            }
          },
          "metadata": {},
          "execution_count": 38
        }
      ]
    },
    {
      "cell_type": "code",
      "source": [
        "# lista\n",
        "numeros = [1,2,3,4,5,6]"
      ],
      "metadata": {
        "id": "kYaAYqXgviKj"
      },
      "execution_count": 39,
      "outputs": []
    },
    {
      "cell_type": "code",
      "source": [
        "# Acceso por indices\n",
        "numeros[1]"
      ],
      "metadata": {
        "id": "2493AzQflz-7",
        "colab": {
          "base_uri": "https://localhost:8080/"
        },
        "outputId": "5dd6d8c5-6b92-4ba4-8092-6816fcdc34ea"
      },
      "execution_count": 40,
      "outputs": [
        {
          "output_type": "execute_result",
          "data": {
            "text/plain": [
              "2"
            ]
          },
          "metadata": {},
          "execution_count": 40
        }
      ]
    },
    {
      "cell_type": "code",
      "source": [
        "# Acceso por slicing\n",
        "numeros[1:5]"
      ],
      "metadata": {
        "id": "RsAuVOheji0Q",
        "colab": {
          "base_uri": "https://localhost:8080/"
        },
        "outputId": "90397b9a-1175-452d-ddc6-a28d81f38ca6"
      },
      "execution_count": 41,
      "outputs": [
        {
          "output_type": "execute_result",
          "data": {
            "text/plain": [
              "[2, 3, 4, 5]"
            ]
          },
          "metadata": {},
          "execution_count": 41
        }
      ]
    },
    {
      "cell_type": "code",
      "source": [
        "# type lista - type items\n",
        "lista3 = [0, 1.5, \"A\", [0,1]]"
      ],
      "metadata": {
        "id": "wHtipHd5jn1G"
      },
      "execution_count": null,
      "outputs": []
    },
    {
      "cell_type": "code",
      "source": [
        "type(lista3)"
      ],
      "metadata": {
        "id": "b-qclr4v67LY",
        "colab": {
          "base_uri": "https://localhost:8080/"
        },
        "outputId": "bd5b3088-17ba-4325-cda2-c4028424dbcb"
      },
      "execution_count": null,
      "outputs": [
        {
          "output_type": "execute_result",
          "data": {
            "text/plain": [
              "list"
            ]
          },
          "metadata": {},
          "execution_count": 46
        }
      ]
    },
    {
      "cell_type": "code",
      "source": [
        "type(lista3[3])"
      ],
      "metadata": {
        "id": "gRTeFsFI6_X-",
        "colab": {
          "base_uri": "https://localhost:8080/"
        },
        "outputId": "d748cc43-e216-4435-a9b7-95e6a0aaf2b2"
      },
      "execution_count": null,
      "outputs": [
        {
          "output_type": "execute_result",
          "data": {
            "text/plain": [
              "list"
            ]
          },
          "metadata": {},
          "execution_count": 47
        }
      ]
    },
    {
      "cell_type": "code",
      "source": [
        "lista3[3]"
      ],
      "metadata": {
        "id": "M4tTGfFI7aXT",
        "colab": {
          "base_uri": "https://localhost:8080/"
        },
        "outputId": "125953d5-4ab5-4867-a534-f8a4fc92f845"
      },
      "execution_count": null,
      "outputs": [
        {
          "output_type": "execute_result",
          "data": {
            "text/plain": [
              "[0, 1]"
            ]
          },
          "metadata": {},
          "execution_count": 48
        }
      ]
    },
    {
      "cell_type": "markdown",
      "source": [
        "Cual es la principal diferencia con los strings?\n"
      ],
      "metadata": {
        "id": "gNcdyqzrl0km"
      }
    },
    {
      "cell_type": "code",
      "source": [
        "frase1 = \"Hola\"\n",
        "frase1[0] = \"h\""
      ],
      "metadata": {
        "id": "73FDH62XkbPe",
        "colab": {
          "base_uri": "https://localhost:8080/",
          "height": 159
        },
        "outputId": "665987dc-90ff-40af-c10e-ef5620657a7b"
      },
      "execution_count": 47,
      "outputs": [
        {
          "output_type": "error",
          "ename": "TypeError",
          "evalue": "'str' object does not support item assignment",
          "traceback": [
            "\u001b[0;31m---------------------------------------------------------------------------\u001b[0m",
            "\u001b[0;31mTypeError\u001b[0m                                 Traceback (most recent call last)",
            "\u001b[0;32m<ipython-input-47-09be9b5c99e6>\u001b[0m in \u001b[0;36m<cell line: 0>\u001b[0;34m()\u001b[0m\n\u001b[1;32m      1\u001b[0m \u001b[0mfrase1\u001b[0m \u001b[0;34m=\u001b[0m \u001b[0;34m\"Hola\"\u001b[0m\u001b[0;34m\u001b[0m\u001b[0;34m\u001b[0m\u001b[0m\n\u001b[0;32m----> 2\u001b[0;31m \u001b[0mfrase1\u001b[0m\u001b[0;34m[\u001b[0m\u001b[0;36m0\u001b[0m\u001b[0;34m]\u001b[0m \u001b[0;34m=\u001b[0m \u001b[0;34m\"h\"\u001b[0m\u001b[0;34m\u001b[0m\u001b[0;34m\u001b[0m\u001b[0m\n\u001b[0m",
            "\u001b[0;31mTypeError\u001b[0m: 'str' object does not support item assignment"
          ]
        }
      ]
    },
    {
      "cell_type": "code",
      "source": [
        "frase1 = \"hola\""
      ],
      "metadata": {
        "id": "WTFLQH0pSuT8"
      },
      "execution_count": null,
      "outputs": []
    },
    {
      "cell_type": "code",
      "source": [
        "numeros = [20,1,2,3,4,5]\n",
        "print(numeros)\n"
      ],
      "metadata": {
        "id": "0ocz46Nr7q2q",
        "colab": {
          "base_uri": "https://localhost:8080/"
        },
        "outputId": "b5b42769-0689-43dd-b375-8c05c3c4cac5"
      },
      "execution_count": 45,
      "outputs": [
        {
          "output_type": "stream",
          "name": "stdout",
          "text": [
            "[20, 1, 2, 3, 4, 5]\n"
          ]
        }
      ]
    },
    {
      "cell_type": "code",
      "source": [
        "numeros[0] = 5\n",
        "print(numeros)"
      ],
      "metadata": {
        "colab": {
          "base_uri": "https://localhost:8080/"
        },
        "id": "3AatAbvKScrx",
        "outputId": "4d3d7523-8721-4835-d82e-adeb5627863e"
      },
      "execution_count": 46,
      "outputs": [
        {
          "output_type": "stream",
          "name": "stdout",
          "text": [
            "[5, 1, 2, 3, 4, 5]\n"
          ]
        }
      ]
    },
    {
      "cell_type": "code",
      "source": [
        "numeros[0] = \"A\"\n",
        "numeros"
      ],
      "metadata": {
        "id": "ptgggCieZwS3"
      },
      "execution_count": null,
      "outputs": []
    },
    {
      "cell_type": "code",
      "source": [
        "frase= \"Hola\""
      ],
      "metadata": {
        "id": "O2Glo3ijTBiE"
      },
      "execution_count": 49,
      "outputs": []
    },
    {
      "cell_type": "code",
      "source": [
        "id(frase)"
      ],
      "metadata": {
        "colab": {
          "base_uri": "https://localhost:8080/"
        },
        "id": "Ib1NwHUsTEYP",
        "outputId": "60495049-6a73-4ab1-c1d3-5725633a8e69"
      },
      "execution_count": 50,
      "outputs": [
        {
          "output_type": "execute_result",
          "data": {
            "text/plain": [
              "134138611395760"
            ]
          },
          "metadata": {},
          "execution_count": 50
        }
      ]
    },
    {
      "cell_type": "code",
      "source": [
        "frase = frase.lower()"
      ],
      "metadata": {
        "id": "GAX9FFVOTJTl"
      },
      "execution_count": 51,
      "outputs": []
    },
    {
      "cell_type": "code",
      "source": [
        "frase"
      ],
      "metadata": {
        "colab": {
          "base_uri": "https://localhost:8080/",
          "height": 35
        },
        "id": "2McKo7syTME8",
        "outputId": "95d9cfc3-cd24-499c-ec70-39cc72c98421"
      },
      "execution_count": 52,
      "outputs": [
        {
          "output_type": "execute_result",
          "data": {
            "text/plain": [
              "'hola'"
            ],
            "application/vnd.google.colaboratory.intrinsic+json": {
              "type": "string"
            }
          },
          "metadata": {},
          "execution_count": 52
        }
      ]
    },
    {
      "cell_type": "code",
      "source": [
        "id(frase)"
      ],
      "metadata": {
        "colab": {
          "base_uri": "https://localhost:8080/"
        },
        "id": "1BjktwMbTNwr",
        "outputId": "7003c0b7-08f7-4a99-d5db-29f49551abc2"
      },
      "execution_count": 53,
      "outputs": [
        {
          "output_type": "execute_result",
          "data": {
            "text/plain": [
              "134138657546736"
            ]
          },
          "metadata": {},
          "execution_count": 53
        }
      ]
    },
    {
      "cell_type": "markdown",
      "source": [
        "Los string son inmutables."
      ],
      "metadata": {
        "id": "AvYe6oZDLs8S"
      }
    },
    {
      "cell_type": "markdown",
      "source": [
        "##### 4.1.6 Funciones de lista\n",
        "\n",
        "En las listas, hay funciones que son muy interesantes e importantes, las funciones integradas. Las listas en Python tienen muchas funciones para utilizar, entre todas ellas vamos a nombrar las más importantes.\n"
      ],
      "metadata": {
        "id": "_1Ey_pDNsM29"
      }
    },
    {
      "cell_type": "code",
      "source": [
        "# lista\n",
        "numeros = [1,2,3,4,5,6,7,8]\n",
        "numeros"
      ],
      "metadata": {
        "id": "WN4mShwUh055",
        "colab": {
          "base_uri": "https://localhost:8080/"
        },
        "outputId": "7eb79481-4cc1-4e37-81d4-97542a7ee805"
      },
      "execution_count": 54,
      "outputs": [
        {
          "output_type": "execute_result",
          "data": {
            "text/plain": [
              "[1, 2, 3, 4, 5, 6, 7, 8]"
            ]
          },
          "metadata": {},
          "execution_count": 54
        }
      ]
    },
    {
      "cell_type": "code",
      "source": [
        "# append: ingresa un elemento o item al final de la lista\n",
        "numeros.append(9)\n",
        "numeros"
      ],
      "metadata": {
        "id": "Vu5jENF5tkjA",
        "colab": {
          "base_uri": "https://localhost:8080/"
        },
        "outputId": "68f8431e-4deb-4608-8950-ecd90e78727f"
      },
      "execution_count": 55,
      "outputs": [
        {
          "output_type": "execute_result",
          "data": {
            "text/plain": [
              "[1, 2, 3, 4, 5, 6, 7, 8, 9]"
            ]
          },
          "metadata": {},
          "execution_count": 55
        }
      ]
    },
    {
      "cell_type": "code",
      "source": [
        "# append - operaciones\n",
        "numeros.append(9*2)\n",
        "numeros"
      ],
      "metadata": {
        "id": "k1DA-cp4t9Pi",
        "colab": {
          "base_uri": "https://localhost:8080/"
        },
        "outputId": "785dc657-b589-4190-db80-3e5fddbf8ff3"
      },
      "execution_count": 56,
      "outputs": [
        {
          "output_type": "execute_result",
          "data": {
            "text/plain": [
              "[1, 2, 3, 4, 5, 6, 7, 8, 9, 18]"
            ]
          },
          "metadata": {},
          "execution_count": 56
        }
      ]
    },
    {
      "cell_type": "code",
      "source": [
        "numeros"
      ],
      "metadata": {
        "id": "LsILTZsDblW8"
      },
      "execution_count": null,
      "outputs": []
    },
    {
      "cell_type": "code",
      "source": [
        "numeros.append(\"2\")\n",
        "numeros"
      ],
      "metadata": {
        "id": "dh-OY7OzbnYe",
        "colab": {
          "base_uri": "https://localhost:8080/"
        },
        "outputId": "0b315f6a-6592-4457-a1df-83b69b0ecf23"
      },
      "execution_count": 57,
      "outputs": [
        {
          "output_type": "execute_result",
          "data": {
            "text/plain": [
              "[1, 2, 3, 4, 5, 6, 7, 8, 9, 18, '2']"
            ]
          },
          "metadata": {},
          "execution_count": 57
        }
      ]
    },
    {
      "cell_type": "code",
      "source": [
        "# Recordad definir antes la variable\n",
        "valores = []\n",
        "\n",
        "dato = input()\n",
        "valores.append(dato)\n",
        "valores"
      ],
      "metadata": {
        "id": "4b5bhgmXhi8k",
        "colab": {
          "base_uri": "https://localhost:8080/"
        },
        "outputId": "833a0fb8-36cd-458c-ff58-15c558077dbe"
      },
      "execution_count": 58,
      "outputs": [
        {
          "name": "stdout",
          "output_type": "stream",
          "text": [
            "we\n"
          ]
        },
        {
          "output_type": "execute_result",
          "data": {
            "text/plain": [
              "['we']"
            ]
          },
          "metadata": {},
          "execution_count": 58
        }
      ]
    },
    {
      "cell_type": "code",
      "source": [
        "numeros"
      ],
      "metadata": {
        "colab": {
          "base_uri": "https://localhost:8080/"
        },
        "id": "a2yHEni-TlPp",
        "outputId": "6359a5fd-7fa2-4830-ead3-2a4f8c27188e"
      },
      "execution_count": 59,
      "outputs": [
        {
          "output_type": "execute_result",
          "data": {
            "text/plain": [
              "[1, 2, 3, 4, 5, 6, 7, 8, 9, 18, '2']"
            ]
          },
          "metadata": {},
          "execution_count": 59
        }
      ]
    },
    {
      "cell_type": "code",
      "source": [
        "# pop -- extrae el ultimo elelemnto\n",
        "numeros.pop()"
      ],
      "metadata": {
        "id": "LFEr9UGouVj7",
        "colab": {
          "base_uri": "https://localhost:8080/",
          "height": 35
        },
        "outputId": "51d117aa-6b0b-472d-ef8a-dd4f06dd90cf"
      },
      "execution_count": 60,
      "outputs": [
        {
          "output_type": "execute_result",
          "data": {
            "text/plain": [
              "'2'"
            ],
            "application/vnd.google.colaboratory.intrinsic+json": {
              "type": "string"
            }
          },
          "metadata": {},
          "execution_count": 60
        }
      ]
    },
    {
      "cell_type": "code",
      "source": [
        "numeros"
      ],
      "metadata": {
        "id": "xCriWi3LATRx",
        "colab": {
          "base_uri": "https://localhost:8080/"
        },
        "outputId": "954f7fd3-92e4-4bc3-98de-dc915192bde7"
      },
      "execution_count": 61,
      "outputs": [
        {
          "output_type": "execute_result",
          "data": {
            "text/plain": [
              "[1, 2, 3, 4, 5, 6, 7, 8, 9, 18]"
            ]
          },
          "metadata": {},
          "execution_count": 61
        }
      ]
    },
    {
      "cell_type": "code",
      "source": [
        "# Y si quiero sacar de otra posicion?\n",
        "valor = numeros.pop(0)"
      ],
      "metadata": {
        "id": "sHA3SMOIJTJu"
      },
      "execution_count": 62,
      "outputs": []
    },
    {
      "cell_type": "code",
      "source": [
        "numeros"
      ],
      "metadata": {
        "id": "eDlb3w-mAcPe",
        "colab": {
          "base_uri": "https://localhost:8080/"
        },
        "outputId": "fd63d8a2-4d5a-42b7-9fee-4f7fed103f5e"
      },
      "execution_count": 63,
      "outputs": [
        {
          "output_type": "execute_result",
          "data": {
            "text/plain": [
              "[2, 3, 4, 5, 6, 7, 8, 9, 18]"
            ]
          },
          "metadata": {},
          "execution_count": 63
        }
      ]
    },
    {
      "cell_type": "code",
      "source": [
        "valor"
      ],
      "metadata": {
        "colab": {
          "base_uri": "https://localhost:8080/"
        },
        "id": "4zq7kOV4T8XP",
        "outputId": "07911bf6-5828-401d-c2c0-c2a3e04b35c7"
      },
      "execution_count": 64,
      "outputs": [
        {
          "output_type": "execute_result",
          "data": {
            "text/plain": [
              "1"
            ]
          },
          "metadata": {},
          "execution_count": 64
        }
      ]
    },
    {
      "cell_type": "code",
      "source": [
        "# Y si la lista esta vacia?"
      ],
      "metadata": {
        "id": "OJkgW-yOwGaD"
      },
      "execution_count": null,
      "outputs": []
    },
    {
      "cell_type": "code",
      "source": [
        "# count: cuenta la cantidad de veces que un elemento se repite en la lista\n",
        "numeros.count(\"A\")"
      ],
      "metadata": {
        "id": "kTPfGPjdvGNn"
      },
      "execution_count": null,
      "outputs": []
    },
    {
      "cell_type": "code",
      "source": [
        "numeros.count(2)"
      ],
      "metadata": {
        "id": "KOtLqoGZcDEp"
      },
      "execution_count": null,
      "outputs": []
    },
    {
      "cell_type": "code",
      "source": [
        "# Que pasa si el elemento no esta?\n",
        "numeros.count(\"aassddsf\")"
      ],
      "metadata": {
        "id": "A7FV0Sd3M_ls"
      },
      "execution_count": null,
      "outputs": []
    },
    {
      "cell_type": "code",
      "source": [
        "# index: busco un item y nos retorna el indice\n",
        "numeros.index(3)"
      ],
      "metadata": {
        "id": "HHN8M4bNv99o"
      },
      "execution_count": null,
      "outputs": []
    },
    {
      "cell_type": "code",
      "source": [
        "# si el item no esta?\n",
        "numeros.index(10)"
      ],
      "metadata": {
        "id": "SIHTMprRx2pK"
      },
      "execution_count": null,
      "outputs": []
    },
    {
      "cell_type": "code",
      "source": [
        "# si hay mas de uno?"
      ],
      "metadata": {
        "id": "91eLXvAVx4qr"
      },
      "execution_count": null,
      "outputs": []
    },
    {
      "cell_type": "code",
      "source": [
        "# cantidad de elementos de una lista\n",
        "lista1 = [1,2,3, 1]\n",
        "len(lista1)"
      ],
      "metadata": {
        "id": "opJuis72Gs6r"
      },
      "execution_count": null,
      "outputs": []
    },
    {
      "cell_type": "code",
      "source": [
        "# concatenar\n",
        "lista1 + lista1"
      ],
      "metadata": {
        "id": "8Ve05JKJNJhd"
      },
      "execution_count": null,
      "outputs": []
    },
    {
      "cell_type": "code",
      "source": [
        "# extend -- help(list.extend)\n",
        "lista1.extend(lista1)\n",
        "lista1"
      ],
      "metadata": {
        "id": "pFRVAmf_xAYb"
      },
      "execution_count": null,
      "outputs": []
    },
    {
      "cell_type": "markdown",
      "source": [
        "listas vs objetos"
      ],
      "metadata": {
        "id": "zxlIJ9QKUJCq"
      }
    },
    {
      "cell_type": "code",
      "source": [
        "vocales = [\"a\", \"e\"]"
      ],
      "metadata": {
        "id": "5TIQl6mAULWk"
      },
      "execution_count": 65,
      "outputs": []
    },
    {
      "cell_type": "code",
      "source": [
        "type(vocales)"
      ],
      "metadata": {
        "colab": {
          "base_uri": "https://localhost:8080/"
        },
        "id": "JN2EdQ4SUP8I",
        "outputId": "04dcbc3b-39ac-43e0-c41e-6db5058e93f7"
      },
      "execution_count": 66,
      "outputs": [
        {
          "output_type": "execute_result",
          "data": {
            "text/plain": [
              "list"
            ]
          },
          "metadata": {},
          "execution_count": 66
        }
      ]
    },
    {
      "cell_type": "code",
      "source": [
        "dir(list)"
      ],
      "metadata": {
        "colab": {
          "base_uri": "https://localhost:8080/"
        },
        "id": "WdTeAgmqUYsM",
        "outputId": "3920aa28-bf72-404f-adce-73fd341f8d0a"
      },
      "execution_count": 67,
      "outputs": [
        {
          "output_type": "execute_result",
          "data": {
            "text/plain": [
              "['__add__',\n",
              " '__class__',\n",
              " '__class_getitem__',\n",
              " '__contains__',\n",
              " '__delattr__',\n",
              " '__delitem__',\n",
              " '__dir__',\n",
              " '__doc__',\n",
              " '__eq__',\n",
              " '__format__',\n",
              " '__ge__',\n",
              " '__getattribute__',\n",
              " '__getitem__',\n",
              " '__getstate__',\n",
              " '__gt__',\n",
              " '__hash__',\n",
              " '__iadd__',\n",
              " '__imul__',\n",
              " '__init__',\n",
              " '__init_subclass__',\n",
              " '__iter__',\n",
              " '__le__',\n",
              " '__len__',\n",
              " '__lt__',\n",
              " '__mul__',\n",
              " '__ne__',\n",
              " '__new__',\n",
              " '__reduce__',\n",
              " '__reduce_ex__',\n",
              " '__repr__',\n",
              " '__reversed__',\n",
              " '__rmul__',\n",
              " '__setattr__',\n",
              " '__setitem__',\n",
              " '__sizeof__',\n",
              " '__str__',\n",
              " '__subclasshook__',\n",
              " 'append',\n",
              " 'clear',\n",
              " 'copy',\n",
              " 'count',\n",
              " 'extend',\n",
              " 'index',\n",
              " 'insert',\n",
              " 'pop',\n",
              " 'remove',\n",
              " 'reverse',\n",
              " 'sort']"
            ]
          },
          "metadata": {},
          "execution_count": 67
        }
      ]
    },
    {
      "cell_type": "code",
      "source": [
        "vocales.append"
      ],
      "metadata": {
        "id": "46xhJ0Z_UrPG"
      },
      "execution_count": null,
      "outputs": []
    },
    {
      "cell_type": "code",
      "source": [
        "a = \"Hola\""
      ],
      "metadata": {
        "id": "3Va_V81kUjJo"
      },
      "execution_count": null,
      "outputs": []
    },
    {
      "cell_type": "markdown",
      "source": [
        "![purple-divider](https://user-images.githubusercontent.com/7065401/52071927-c1cd7100-2562-11e9-908a-dde91ba14e59.png)\n",
        "\n",
        "### 4.2 Tuplas\n"
      ],
      "metadata": {
        "id": "2oaF2Iily_YQ"
      }
    },
    {
      "cell_type": "markdown",
      "source": [
        "##### 2.2.1 Introducción a tuplas"
      ],
      "metadata": {
        "id": "_q3M-qMt0sd0"
      }
    },
    {
      "cell_type": "markdown",
      "source": [
        "Las tuplas son colecciones de datos **parecidas a las listas**, una de las diferencias es que estas son **inmutables**. Se utilizan para asegurarnos que una colección determinada de datos no se pueda modificar.\n",
        "Python utiliza tuplas en algunas funciones para devolver resultados inmutables, por eso, conviene saber identificarlas. A su vez, dependiendo de lo que queramos hacer, **las tuplas pueden ser más rápidas que las listas**."
      ],
      "metadata": {
        "id": "acbzQYLGzQkj"
      }
    },
    {
      "cell_type": "markdown",
      "source": [
        "**Caracteristicas**\n",
        "\n",
        "\n",
        "1. Inmutabilidad: Una vez definida, no se pueden cambiar los elementos de una tupla.\n",
        "\n",
        "2. Acceso Rápido: Al ser inmutables, Python puede optimizar el acceso a sus elementos, lo que las hace ligeramente más rápidas que las listas para algunas operaciones.\n",
        "\n",
        "3. Heterogeneidad: Al igual que las listas, las tuplas pueden contener elementos de diferentes tipos."
      ],
      "metadata": {
        "id": "xw-2XHXw1J1q"
      }
    },
    {
      "cell_type": "markdown",
      "source": [
        "##### 2.2.2 Sintaxis Básica"
      ],
      "metadata": {
        "id": "NzAC4x1c0_P3"
      }
    },
    {
      "cell_type": "code",
      "source": [
        "# Definición\n",
        "()"
      ],
      "metadata": {
        "id": "uWC8vZku11Rf"
      },
      "execution_count": null,
      "outputs": []
    },
    {
      "cell_type": "code",
      "source": [
        "tupla = ()"
      ],
      "metadata": {
        "id": "IC8r1GMVy2po"
      },
      "execution_count": null,
      "outputs": []
    },
    {
      "cell_type": "code",
      "source": [
        "tupla"
      ],
      "metadata": {
        "id": "97L8IPU6y7pa"
      },
      "execution_count": null,
      "outputs": []
    },
    {
      "cell_type": "code",
      "source": [
        "# tipo de dato\n",
        "\n",
        "type(())"
      ],
      "metadata": {
        "id": "8Ile7nBtysS4"
      },
      "execution_count": null,
      "outputs": []
    },
    {
      "cell_type": "code",
      "source": [
        "# otra forma\n",
        "tupla = tuple()"
      ],
      "metadata": {
        "id": "HIAkGltVydW4"
      },
      "execution_count": null,
      "outputs": []
    },
    {
      "cell_type": "code",
      "source": [
        "# tupla de numeros\n",
        "tupla = (1, 2, 3, 4, 5)"
      ],
      "metadata": {
        "id": "1LcBBHhgzLDL"
      },
      "execution_count": null,
      "outputs": []
    },
    {
      "cell_type": "code",
      "source": [
        "# tupla de texto\n",
        "tupla = (\"Hola\", \"mundo!!!\")"
      ],
      "metadata": {
        "id": "27GLA0AEzP8i"
      },
      "execution_count": null,
      "outputs": []
    },
    {
      "cell_type": "code",
      "source": [
        "# tuplas heterogeneas\n",
        "tupla = (\"Hola\", 1, 3.5)\n",
        "tupla"
      ],
      "metadata": {
        "id": "b2lpIq5Q0Kkr",
        "colab": {
          "base_uri": "https://localhost:8080/"
        },
        "outputId": "e1147bfa-9bca-4a77-a867-8afd7926f0fe"
      },
      "execution_count": null,
      "outputs": [
        {
          "output_type": "execute_result",
          "data": {
            "text/plain": [
              "('Hola', 1, 3.5)"
            ]
          },
          "metadata": {},
          "execution_count": 2
        }
      ]
    },
    {
      "cell_type": "code",
      "source": [
        "# tupla con un elemento\n",
        "tupla = (45,)\n",
        "tupla"
      ],
      "metadata": {
        "id": "ObP_X3jO21_7"
      },
      "execution_count": null,
      "outputs": []
    },
    {
      "cell_type": "code",
      "source": [
        "# Otra forma de definir una tupla\n",
        "tupla = 2,4,5"
      ],
      "metadata": {
        "id": "c_1qzLO03Dec"
      },
      "execution_count": null,
      "outputs": []
    },
    {
      "cell_type": "markdown",
      "source": [
        "##### 2.2.3 Accediendo a la tuplas"
      ],
      "metadata": {
        "id": "Z__UYq5H33uI"
      }
    },
    {
      "cell_type": "markdown",
      "source": [
        "###### Accediendo por indice"
      ],
      "metadata": {
        "id": "sgU-POwQi8zl"
      }
    },
    {
      "cell_type": "markdown",
      "source": [
        "Los elementos de una tupla se pueden acceder utilizando su índice, de forma similar a las listas:"
      ],
      "metadata": {
        "id": "RvCQHkm96D5C"
      }
    },
    {
      "cell_type": "code",
      "source": [
        "# tupla de ejemplo\n",
        "datos = (25, \"Python\")"
      ],
      "metadata": {
        "id": "M9z_gGZh6ttA"
      },
      "execution_count": null,
      "outputs": []
    },
    {
      "cell_type": "code",
      "source": [
        "# accediendo a elementos de una por su indice\n",
        "primer_dato = datos[0]  # 25\n",
        "segundo_dato = datos[1]  # \"Python\""
      ],
      "metadata": {
        "id": "upanvf7S6obK"
      },
      "execution_count": null,
      "outputs": []
    },
    {
      "cell_type": "code",
      "source": [
        "primer_dato"
      ],
      "metadata": {
        "id": "IA4dT2wAjq5x"
      },
      "execution_count": null,
      "outputs": []
    },
    {
      "cell_type": "code",
      "source": [
        "segundo_dato"
      ],
      "metadata": {
        "id": "qj8KbmRzjtX4"
      },
      "execution_count": null,
      "outputs": []
    },
    {
      "cell_type": "markdown",
      "source": [
        "###### Accediendo por slicing"
      ],
      "metadata": {
        "id": "hNWORmVfjGoT"
      }
    },
    {
      "cell_type": "code",
      "source": [
        "# tupla de ejemplo\n",
        "tupla_numeros = (1, 2, 3, 4, 5, 6, 7, 8, 9)"
      ],
      "metadata": {
        "id": "gn5QVz20lLFV"
      },
      "execution_count": null,
      "outputs": []
    },
    {
      "cell_type": "code",
      "source": [
        "# los primeros cinco\n",
        "primeros = tupla_numeros[0:5]"
      ],
      "metadata": {
        "id": "pYM93_7-lcUU"
      },
      "execution_count": null,
      "outputs": []
    },
    {
      "cell_type": "code",
      "source": [
        "# del 5 hasta el final\n",
        "ultimos = tupla_numeros[5:]"
      ],
      "metadata": {
        "id": "EDIphOhomKkw"
      },
      "execution_count": null,
      "outputs": []
    },
    {
      "cell_type": "code",
      "source": [
        "# subconjunto\n",
        "medio = tupla_numeros[5:7]"
      ],
      "metadata": {
        "id": "HmTIbD_XmVkJ"
      },
      "execution_count": null,
      "outputs": []
    },
    {
      "cell_type": "code",
      "source": [
        "# impares\n",
        "impares = tupla_numeros[::2]"
      ],
      "metadata": {
        "id": "KfjNdtBemd5s"
      },
      "execution_count": null,
      "outputs": []
    },
    {
      "cell_type": "code",
      "source": [
        "impares"
      ],
      "metadata": {
        "id": "ix4qupEJmzQi"
      },
      "execution_count": null,
      "outputs": []
    },
    {
      "cell_type": "markdown",
      "source": [
        "##### 2.2.3 Comparación entre Listas y Tuplas"
      ],
      "metadata": {
        "id": "oIuL0Dz2y-_4"
      }
    },
    {
      "cell_type": "markdown",
      "source": [
        "**Similitudes**\n",
        "\n",
        "- Ordenadas: Tanto las listas como las tuplas mantienen el orden de los elementos.\n",
        "\n",
        "- Acceso por Índice: Se puede acceder a los elementos usando índices numéricos.\n",
        "\n",
        "- Heterogeneidad: Ambas pueden contener elementos de diferentes tipos de datos.\n",
        "\n",
        "**Diferencias**\n",
        "\n",
        "- Mutabilidad: Listas: Son mutables, lo que significa que sus elementos pueden ser cambiados, agregados o eliminados.\n",
        "\n",
        "- Tuplas: Son inmutables, una vez creadas, sus elementos no pueden ser modificados.\n",
        "\n",
        "\n",
        "**Definición**:\n",
        "\n",
        "- Listas: Se definen usando corchetes [].\n",
        "\n",
        "- Tuplas: Se definen usando paréntesis ().\n",
        "\n",
        "\n",
        "**Uso**:\n",
        "\n",
        "- Listas: Se utilizan cuando se espera que los datos cambien a lo largo del programa.\n",
        "\n",
        "- Tuplas: Se utilizan cuando se necesita un conjunto de datos que no cambie.\n",
        "\n",
        "\n",
        "- Rendimiento: Las tuplas pueden ser más rápidas que las listas para algunas operaciones debido a su inmutabilidad."
      ],
      "metadata": {
        "id": "I65Jq4WKzFge"
      }
    },
    {
      "cell_type": "markdown",
      "source": [
        "##### 2.2.3 Mutabilidad\n",
        "\n",
        "![green-divider](https://user-images.githubusercontent.com/7065401/52071924-c003ad80-2562-11e9-8297-1c6595f8a7ff.png)\n",
        "\n",
        "Como vimos, hay una diferencia entre listas y tuplas, las listas son mutables (podían reasignar sus ítems), en cambio las tuplas son inmutables, esto significa que no podemos reasignar sus ítems haciendo referencia con el índice.\n"
      ],
      "metadata": {
        "id": "sTTTDc8OGy8M"
      }
    },
    {
      "cell_type": "code",
      "source": [
        "# modificacion por indice\n"
      ],
      "metadata": {
        "id": "GKoA-lRyIB2L"
      },
      "execution_count": null,
      "outputs": []
    },
    {
      "cell_type": "markdown",
      "source": [
        "##### 2.2.4 Funciones\n",
        "\n",
        "![green-divider](https://user-images.githubusercontent.com/7065401/52071924-c003ad80-2562-11e9-8297-1c6595f8a7ff.png)"
      ],
      "metadata": {
        "id": "1Ax4PqyAInlF"
      }
    },
    {
      "cell_type": "code",
      "source": [
        "# tupla de prueba\n",
        "numeros = (1,2,3,4,5,6,6,6,6)"
      ],
      "metadata": {
        "id": "hKUOqc4d1gb2"
      },
      "execution_count": null,
      "outputs": []
    },
    {
      "cell_type": "code",
      "source": [
        "# longitud de una tupla\n",
        "len(numeros)"
      ],
      "metadata": {
        "id": "tGP6qSadIqCL",
        "colab": {
          "base_uri": "https://localhost:8080/"
        },
        "outputId": "799033c7-4b46-4774-edcc-f498b43c4b8a"
      },
      "execution_count": null,
      "outputs": [
        {
          "output_type": "execute_result",
          "data": {
            "text/plain": [
              "9"
            ]
          },
          "metadata": {},
          "execution_count": 8
        }
      ]
    },
    {
      "cell_type": "code",
      "source": [
        "# count -- retorna la cantidad de veces que aparece un elemento\n",
        "numeros.count(6)"
      ],
      "metadata": {
        "id": "XfPDWtz8JTUB",
        "colab": {
          "base_uri": "https://localhost:8080/"
        },
        "outputId": "7c36804a-52c6-4c02-a178-5f0c3a36ce8f"
      },
      "execution_count": null,
      "outputs": [
        {
          "output_type": "execute_result",
          "data": {
            "text/plain": [
              "4"
            ]
          },
          "metadata": {},
          "execution_count": 9
        }
      ]
    },
    {
      "cell_type": "code",
      "source": [
        "# count -- si el elemento no esta\n",
        "numeros.count(\"Z\")"
      ],
      "metadata": {
        "id": "0KrwI80VbBvO",
        "colab": {
          "base_uri": "https://localhost:8080/"
        },
        "outputId": "89831a43-4615-4f9d-daa3-aa354de94ba2"
      },
      "execution_count": null,
      "outputs": [
        {
          "output_type": "execute_result",
          "data": {
            "text/plain": [
              "0"
            ]
          },
          "metadata": {},
          "execution_count": 10
        }
      ]
    },
    {
      "cell_type": "code",
      "source": [
        "# index -- retorna el indice del elemento que se pasa como argumento\n",
        "numeros.index(5)"
      ],
      "metadata": {
        "id": "7ru-wTpcJcLq",
        "colab": {
          "base_uri": "https://localhost:8080/"
        },
        "outputId": "2bcbdf0f-6224-4ea3-a603-2ae16dcc5925"
      },
      "execution_count": null,
      "outputs": [
        {
          "output_type": "execute_result",
          "data": {
            "text/plain": [
              "4"
            ]
          },
          "metadata": {},
          "execution_count": 11
        }
      ]
    },
    {
      "cell_type": "code",
      "source": [
        "# index -- si el elemento no esta?\n",
        "numeros.index(\"2\")"
      ],
      "metadata": {
        "id": "YPZdmZkSWeHV",
        "colab": {
          "base_uri": "https://localhost:8080/",
          "height": 159
        },
        "outputId": "a43dd40e-5828-47ae-f24d-82739bdaab2f"
      },
      "execution_count": null,
      "outputs": [
        {
          "output_type": "error",
          "ename": "ValueError",
          "evalue": "tuple.index(x): x not in tuple",
          "traceback": [
            "\u001b[0;31m---------------------------------------------------------------------------\u001b[0m",
            "\u001b[0;31mValueError\u001b[0m                                Traceback (most recent call last)",
            "\u001b[0;32m<ipython-input-12-3d43ad472214>\u001b[0m in \u001b[0;36m<cell line: 2>\u001b[0;34m()\u001b[0m\n\u001b[1;32m      1\u001b[0m \u001b[0;31m# si el valor no esta?\u001b[0m\u001b[0;34m\u001b[0m\u001b[0;34m\u001b[0m\u001b[0m\n\u001b[0;32m----> 2\u001b[0;31m \u001b[0mnumeros\u001b[0m\u001b[0;34m.\u001b[0m\u001b[0mindex\u001b[0m\u001b[0;34m(\u001b[0m\u001b[0;34m\"2\"\u001b[0m\u001b[0;34m)\u001b[0m\u001b[0;34m\u001b[0m\u001b[0;34m\u001b[0m\u001b[0m\n\u001b[0m",
            "\u001b[0;31mValueError\u001b[0m: tuple.index(x): x not in tuple"
          ]
        }
      ]
    },
    {
      "cell_type": "code",
      "source": [
        "# Anidadas\n",
        "\n",
        "tuplaA = (\"a\",2,(\"A\", \"B\"), [1,2])\n",
        "tuplaA"
      ],
      "metadata": {
        "id": "mTkmeGKyJ8vL"
      },
      "execution_count": null,
      "outputs": []
    },
    {
      "cell_type": "code",
      "source": [
        "lista1 = [0, (1,2)]\n",
        "\n",
        "lista1[1]"
      ],
      "metadata": {
        "id": "XgLjPinSL_3y"
      },
      "execution_count": null,
      "outputs": []
    },
    {
      "cell_type": "code",
      "source": [
        "lista1[1] = 1"
      ],
      "metadata": {
        "id": "WYZtkSnXMJMp"
      },
      "execution_count": null,
      "outputs": []
    },
    {
      "cell_type": "code",
      "source": [
        "lista1"
      ],
      "metadata": {
        "id": "EBwxL4pZMRRR"
      },
      "execution_count": null,
      "outputs": []
    },
    {
      "cell_type": "markdown",
      "source": [
        "##### 2.2.5 Transformaciones entre listas y tuplas\n",
        "\n",
        "![green-divider](https://user-images.githubusercontent.com/7065401/52071924-c003ad80-2562-11e9-8297-1c6595f8a7ff.png)"
      ],
      "metadata": {
        "id": "athFMdz_KjaH"
      }
    },
    {
      "cell_type": "code",
      "source": [
        "# lista a tupla\n",
        "lista6 = [\"A\", 0]\n",
        "print(lista6)\n",
        "tupla6 = tuple(lista6)\n",
        "print(tupla6)\n",
        "lista6[0] = \"B\"\n",
        "print(lista6)\n",
        "print(tupla6)"
      ],
      "metadata": {
        "id": "EgksRAC8KfM-"
      },
      "execution_count": null,
      "outputs": []
    },
    {
      "cell_type": "code",
      "source": [
        "tupla = (0,1)\n",
        "lista = [0,1]\n",
        "\n",
        "tupla == lista"
      ],
      "metadata": {
        "id": "jGlFht8YORY5"
      },
      "execution_count": null,
      "outputs": []
    },
    {
      "cell_type": "code",
      "source": [
        "# list 2 tuple\n",
        "lista7 = list(tupla6)\n",
        "lista7"
      ],
      "metadata": {
        "id": "u4ctBxZPnFAY"
      },
      "execution_count": null,
      "outputs": []
    },
    {
      "cell_type": "code",
      "source": [
        "tuplax = (0, 1)\n",
        "tuplay = (2, 4)\n",
        "\n",
        "tuplax + tuplay"
      ],
      "metadata": {
        "id": "gKrBCB9PM-XD"
      },
      "execution_count": null,
      "outputs": []
    },
    {
      "cell_type": "markdown",
      "source": [
        "![purple-divider](https://user-images.githubusercontent.com/7065401/52071927-c1cd7100-2562-11e9-908a-dde91ba14e59.png)\n",
        "\n",
        "### 4.3 Conjuntos"
      ],
      "metadata": {
        "id": "DKqUeAxYvsSr"
      }
    },
    {
      "cell_type": "markdown",
      "source": [
        "##### 4.3.1 Introducción a los conjuntos"
      ],
      "metadata": {
        "id": "x8IngserpWS3"
      }
    },
    {
      "cell_type": "markdown",
      "source": [
        "Los conjuntos en Python son colecciones no ordenadas de elementos únicos. Esto significa que no pueden contener elementos duplicados y que el orden de los elementos no está garantizado."
      ],
      "metadata": {
        "id": "Rfl-MbhipgcB"
      }
    },
    {
      "cell_type": "markdown",
      "source": [
        "##### 4.3.2 Sintaxis Básica"
      ],
      "metadata": {
        "id": "I624K3lcqPHR"
      }
    },
    {
      "cell_type": "markdown",
      "source": [
        "Para definir un conjunto en Python, se utilizan llaves {} o la función set(). A continuación, se presentan algunos ejemplos de cómo definir y utilizar conjuntos:"
      ],
      "metadata": {
        "id": "n9aw8KpKqeVN"
      }
    },
    {
      "cell_type": "code",
      "source": [
        "# Conjunto vacio\n",
        "conjunto = set()"
      ],
      "metadata": {
        "id": "oYviBDJhqfon"
      },
      "execution_count": null,
      "outputs": []
    },
    {
      "cell_type": "code",
      "source": [
        "# tipo de dato\n",
        "type(conjunto)"
      ],
      "metadata": {
        "id": "I62k12QHqrV7"
      },
      "execution_count": null,
      "outputs": []
    },
    {
      "cell_type": "code",
      "source": [
        "# Conjunto de numeros\n",
        "numeros = {1, 2, 3, 4 ,5 ,6 }"
      ],
      "metadata": {
        "id": "SSy1JXuuqvvT"
      },
      "execution_count": null,
      "outputs": []
    },
    {
      "cell_type": "code",
      "source": [
        "numeros"
      ],
      "metadata": {
        "id": "ZREHKEAXq_KB"
      },
      "execution_count": null,
      "outputs": []
    },
    {
      "cell_type": "markdown",
      "source": [
        "**Atencion:** las {} no representan un conjunto vacio"
      ],
      "metadata": {
        "id": "qtxx837nrHD7"
      }
    },
    {
      "cell_type": "code",
      "source": [
        "conjunto = {}"
      ],
      "metadata": {
        "id": "pN7heB7bs4tJ"
      },
      "execution_count": null,
      "outputs": []
    },
    {
      "cell_type": "code",
      "source": [
        "# Usando la funcion set\n",
        "vocales = set(['a', 'e', 'i', 'o', 'u'])"
      ],
      "metadata": {
        "id": "w1LMq7ZkrC8e"
      },
      "execution_count": null,
      "outputs": []
    },
    {
      "cell_type": "markdown",
      "source": [
        "##### 4.3.3 Carácteristicas"
      ],
      "metadata": {
        "id": "kTGP1TH0tRAf"
      }
    },
    {
      "cell_type": "markdown",
      "source": [
        "1. **Elementos Únicos:** Los conjuntos no permiten elementos duplicados. Si se intenta agregar un duplicado, será ignorado.\n",
        "\n",
        "2. **No Ordenados:** Los elementos en un conjunto no tienen un orden específico. No se puede acceder a ellos mediante índices."
      ],
      "metadata": {
        "id": "OXL9kL05tq-5"
      }
    },
    {
      "cell_type": "code",
      "source": [
        "# elementos únicos\n",
        "conjunto = { 1, 2, 3, 1, 3, 4, 5}"
      ],
      "metadata": {
        "id": "cceTclgwtpkr"
      },
      "execution_count": null,
      "outputs": []
    },
    {
      "cell_type": "code",
      "source": [
        "conjunto"
      ],
      "metadata": {
        "id": "J7KupgljyB1u"
      },
      "execution_count": null,
      "outputs": []
    },
    {
      "cell_type": "code",
      "source": [
        "# no se pueden acceder por indice -- error\n",
        "conjunto[0]"
      ],
      "metadata": {
        "id": "xa_UtzLWyGe3"
      },
      "execution_count": null,
      "outputs": []
    },
    {
      "cell_type": "markdown",
      "source": [
        "##### 4.3.4 Operaciones con conjuntos"
      ],
      "metadata": {
        "id": "-THKDD0KyVYd"
      }
    },
    {
      "cell_type": "code",
      "source": [
        "# conjuntos de ejemplo\n",
        "conjunto1 = {'a', 'e', 'i', 1, 5, 7}\n",
        "conjunto2 = {1, 2, 3, 'o', 'a', 'u'}"
      ],
      "metadata": {
        "id": "LfwYIFW2zpMY"
      },
      "execution_count": null,
      "outputs": []
    },
    {
      "cell_type": "markdown",
      "source": [
        "**Unión:** Combina todos los elementos de dos conjuntos, eliminando duplicados."
      ],
      "metadata": {
        "id": "6ETCZwV3ykbu"
      }
    },
    {
      "cell_type": "code",
      "source": [
        "# union - |\n",
        "conjunto_union = conjunto1 | conjunto2\n",
        "conjunto_union"
      ],
      "metadata": {
        "id": "g3IVvW9G0cJd"
      },
      "execution_count": null,
      "outputs": []
    },
    {
      "cell_type": "markdown",
      "source": [
        "**Intersección:** Devuelve los elementos que están presentes en ambos conjuntos."
      ],
      "metadata": {
        "id": "eTL7Bca0zr0a"
      }
    },
    {
      "cell_type": "code",
      "source": [
        "# intersección - &\n",
        "conjunto_interseccion = conjunto1  & conjunto2\n",
        "conjunto_interseccion"
      ],
      "metadata": {
        "id": "hvWrtUJazxRw"
      },
      "execution_count": null,
      "outputs": []
    },
    {
      "cell_type": "markdown",
      "source": [
        "**Diferencia:** Devuelve los elementos que están en el primer conjunto pero no en el segundo."
      ],
      "metadata": {
        "id": "S9g-YuVQzphP"
      }
    },
    {
      "cell_type": "code",
      "source": [
        "# diferencia\n",
        "conjunto_diferencia = conjunto1 - conjunto2\n",
        "conjunto_diferencia"
      ],
      "metadata": {
        "id": "lnQwqtHFz0rk"
      },
      "execution_count": null,
      "outputs": []
    },
    {
      "cell_type": "markdown",
      "source": [
        "##### 4.3.5 Métodos en conjuntos"
      ],
      "metadata": {
        "id": "mFceRKYK6q8S"
      }
    },
    {
      "cell_type": "markdown",
      "source": [
        "Además de las operaciones básicas, los conjuntos en Python tienen varios métodos útiles:"
      ],
      "metadata": {
        "id": "Ba1v7W8Q8Rbe"
      }
    },
    {
      "cell_type": "code",
      "source": [
        "datos = {1, 2, 3, 4, 5, 6}"
      ],
      "metadata": {
        "id": "yYRaODI98ktd"
      },
      "execution_count": null,
      "outputs": []
    },
    {
      "cell_type": "code",
      "source": [
        "# add: agrega un elemento al conjunto\n",
        "datos.add(7)\n",
        "datos"
      ],
      "metadata": {
        "id": "5sp81xSo8d6t"
      },
      "execution_count": null,
      "outputs": []
    },
    {
      "cell_type": "code",
      "source": [
        "# remove: elimina un elemento de un conjunto. error si el elemento no existe.\n",
        "datos.remove(7)\n",
        "datos"
      ],
      "metadata": {
        "id": "TY4g0d-X9Y0L"
      },
      "execution_count": null,
      "outputs": []
    },
    {
      "cell_type": "code",
      "source": [
        "# discard: elimina un elemento de un conjunto. si el elemento no existe, no hace nada.\n",
        "datos.discard(7)\n",
        "datos"
      ],
      "metadata": {
        "colab": {
          "base_uri": "https://localhost:8080/"
        },
        "id": "ODt6jQ_u9yd2",
        "outputId": "8dd1eec9-bcd3-4c1c-bd3c-8b1f56c854c0"
      },
      "execution_count": null,
      "outputs": [
        {
          "output_type": "execute_result",
          "data": {
            "text/plain": [
              "{1, 2, 3, 4, 5, 6}"
            ]
          },
          "metadata": {},
          "execution_count": 17
        }
      ]
    },
    {
      "cell_type": "code",
      "source": [
        "# clear: elimina todos los elementos de un conjunto\n",
        "datos.clear()\n",
        "datos"
      ],
      "metadata": {
        "id": "dTSA4wNM_-sN"
      },
      "execution_count": null,
      "outputs": []
    },
    {
      "cell_type": "code",
      "source": [
        "# pop: saca un elemento del conjunto al azar\n",
        "datos = {1, 2, 3, 4, 5, 6}\n",
        "elemento = datos.pop()\n",
        "elemento"
      ],
      "metadata": {
        "colab": {
          "base_uri": "https://localhost:8080/"
        },
        "id": "SlxuHk5TT1f1",
        "outputId": "fc8613a2-24e5-4348-ad00-4faedeeecaee"
      },
      "execution_count": null,
      "outputs": [
        {
          "output_type": "execute_result",
          "data": {
            "text/plain": [
              "1"
            ]
          },
          "metadata": {},
          "execution_count": 20
        }
      ]
    },
    {
      "cell_type": "code",
      "source": [
        "datos"
      ],
      "metadata": {
        "colab": {
          "base_uri": "https://localhost:8080/"
        },
        "id": "EKYBGDciT7ur",
        "outputId": "eccb1200-75a4-40f3-fc8e-6a228463d9d2"
      },
      "execution_count": null,
      "outputs": [
        {
          "output_type": "execute_result",
          "data": {
            "text/plain": [
              "{2, 3, 4, 5, 6}"
            ]
          },
          "metadata": {},
          "execution_count": 21
        }
      ]
    },
    {
      "cell_type": "code",
      "source": [
        "# cantidad de elementos de un conjunto\n",
        "conjunto = {1, 2, 3, 4, 5}\n",
        "len(conjunto)"
      ],
      "metadata": {
        "colab": {
          "base_uri": "https://localhost:8080/"
        },
        "id": "iusf757gWiFV",
        "outputId": "37b5253d-ee1f-45f6-9f5c-3b7fdee60506"
      },
      "execution_count": null,
      "outputs": [
        {
          "output_type": "execute_result",
          "data": {
            "text/plain": [
              "5"
            ]
          },
          "metadata": {},
          "execution_count": 22
        }
      ]
    },
    {
      "cell_type": "markdown",
      "source": [
        "##### 4.3.6 Conversion de tipos"
      ],
      "metadata": {
        "id": "-1hVQI0fSiPD"
      }
    },
    {
      "cell_type": "code",
      "source": [
        "# de conjunto a lista\n",
        "conjunto = {1, 2, 3, 4, 5}\n",
        "lista = list(conjunto)\n",
        "lista"
      ],
      "metadata": {
        "id": "-HKcj33ASmpS"
      },
      "execution_count": null,
      "outputs": []
    },
    {
      "cell_type": "code",
      "source": [
        "# de lista a conjunto\n",
        "lista = [1, 2, 3, 4, 5]\n",
        "conjunto = set(lista)\n",
        "conjunto"
      ],
      "metadata": {
        "id": "3ikz8ygpSpIN"
      },
      "execution_count": null,
      "outputs": []
    },
    {
      "cell_type": "markdown",
      "source": [
        "![purple-divider](https://user-images.githubusercontent.com/7065401/52071927-c1cd7100-2562-11e9-908a-dde91ba14e59.png)\n",
        "\n",
        "### 4.4 Diccionarios"
      ],
      "metadata": {
        "id": "vsFZuvnJvwR4"
      }
    },
    {
      "cell_type": "markdown",
      "source": [
        "##### 4.4.1 Introducción a los diccionarios"
      ],
      "metadata": {
        "id": "-y0YeBgPBqOV"
      }
    },
    {
      "cell_type": "markdown",
      "source": [
        "Los diccionarios en Python son estructuras de datos que permiten almacenar colecciones de pares clave-valor. A diferencia de las listas y tuplas, que son secuencias de elementos, los diccionarios son colecciones no ordenadas, lo que significa que no mantienen el orden de inserción de los elementos. Cada clave en un diccionario es única y se utiliza para acceder a su valor correspondiente de manera rápida y eficiente."
      ],
      "metadata": {
        "id": "yDojaG8U4t1m"
      }
    },
    {
      "cell_type": "markdown",
      "source": [
        "Para definir un diccionario en Python, se utilizan llaves {} y los pares clave-valor se separan por comas, con la clave y el valor separados por dos puntos *:*.\n",
        "\n",
        "A continuación, se presentan algunos ejemplos de cómo definir y utilizar diccionarios:"
      ],
      "metadata": {
        "id": "FeX7Zyru45KM"
      }
    },
    {
      "cell_type": "markdown",
      "source": [
        "##### 4.4.2 Sintaxis Básica"
      ],
      "metadata": {
        "id": "pcyv3DdAB1ZA"
      }
    },
    {
      "cell_type": "code",
      "source": [
        "# diccionario vacio\n",
        "{}"
      ],
      "metadata": {
        "id": "1I8HB61o41Wm"
      },
      "execution_count": null,
      "outputs": []
    },
    {
      "cell_type": "code",
      "source": [
        "# diccionario vacio\n",
        "diccionario = {}\n",
        "diccionario"
      ],
      "metadata": {
        "id": "kGTMw6tH5Ji-"
      },
      "execution_count": null,
      "outputs": []
    },
    {
      "cell_type": "code",
      "source": [
        "# tipo de dato\n",
        "type(diccionario)"
      ],
      "metadata": {
        "id": "c7I196CT5Okh"
      },
      "execution_count": null,
      "outputs": []
    },
    {
      "cell_type": "code",
      "source": [
        "# diccionario\n",
        "\n",
        "diccionario = dict()\n",
        "diccionario"
      ],
      "metadata": {
        "id": "IrEp201cH7_z"
      },
      "execution_count": null,
      "outputs": []
    },
    {
      "cell_type": "code",
      "source": [
        "diccionario = {\n",
        "    \"nombre\": \"Juan\",\n",
        "    \"edad\": 30,\n",
        "    \"altura\": 1.75,\n",
        "    \"ciudad\": \"New York\"\n",
        "}"
      ],
      "metadata": {
        "id": "UDj-FUY4Kgu9"
      },
      "execution_count": null,
      "outputs": []
    },
    {
      "cell_type": "code",
      "source": [
        "diccionario"
      ],
      "metadata": {
        "id": "KpAci58dKwuY"
      },
      "execution_count": null,
      "outputs": []
    },
    {
      "cell_type": "markdown",
      "source": [
        "##### 4.4.3 Caracteristicas"
      ],
      "metadata": {
        "id": "dkT7m7CpGkcO"
      }
    },
    {
      "cell_type": "markdown",
      "source": [
        "1. **Colecciones No Ordenadas:** Los diccionarios no mantienen el orden de los elementos. En Python 3.7 y versiones posteriores, los diccionarios mantienen el orden de inserción de los elementos, pero esto no es algo en lo que se deba confiar siempre para versiones anteriores.\n",
        "\n",
        "2. **Pares Clave-Valor:** Cada elemento en un diccionario está formado por dos partes: una clave y un valor. Las claves deben ser únicas e inmutables (pueden ser cadenas, números o tuplas), mientras que los valores pueden ser de cualquier tipo.\n",
        "\n",
        "3. **Acceso Rápido a Valores:** Se puede acceder a los valores en un diccionario de manera eficiente utilizando sus claves."
      ],
      "metadata": {
        "id": "kyQTyeyN5WM1"
      }
    },
    {
      "cell_type": "markdown",
      "source": [
        "##### 4.4.4 Acceso"
      ],
      "metadata": {
        "id": "gua89RhT-7Sy"
      }
    },
    {
      "cell_type": "markdown",
      "source": [
        "Accedemos a los valores por intermedio de las claves"
      ],
      "metadata": {
        "id": "wB5_EwUSK-hQ"
      }
    },
    {
      "cell_type": "code",
      "source": [
        "diccionario = {\n",
        "    \"nombre\": \"Juan\",\n",
        "    \"edad\": 30,\n",
        "    \"altura\": 1.75,\n",
        "    \"ciudad\": \"New York\"\n",
        "}"
      ],
      "metadata": {
        "id": "84VGisqnLCsf"
      },
      "execution_count": null,
      "outputs": []
    },
    {
      "cell_type": "code",
      "source": [
        "diccionario[\"nombre\"]"
      ],
      "metadata": {
        "id": "3NFigCT29FyV"
      },
      "execution_count": null,
      "outputs": []
    },
    {
      "cell_type": "code",
      "source": [
        "diccionario[\"edad\"]"
      ],
      "metadata": {
        "id": "I4OSRwd59fTV"
      },
      "execution_count": null,
      "outputs": []
    },
    {
      "cell_type": "markdown",
      "source": [
        "##### 4.4.5 Modificando valores"
      ],
      "metadata": {
        "id": "CFkbfWeM-RIr"
      }
    },
    {
      "cell_type": "code",
      "source": [
        "diccionario = {\n",
        "    \"nombre\": \"Juan\",\n",
        "    \"edad\": 30,\n",
        "    \"altura\": 1.75,\n",
        "    \"ciudad\": \"New York\"\n",
        "}"
      ],
      "metadata": {
        "id": "ExM0lw_i9qg6"
      },
      "execution_count": null,
      "outputs": []
    },
    {
      "cell_type": "code",
      "source": [
        "diccionario[\"edad\"] = 31\n",
        "diccionario"
      ],
      "metadata": {
        "id": "Vfwert-5_UUP"
      },
      "execution_count": null,
      "outputs": []
    },
    {
      "cell_type": "markdown",
      "source": [
        "##### 4.4.6 Agregando valores"
      ],
      "metadata": {
        "id": "A0ixs_uh_kea"
      }
    },
    {
      "cell_type": "code",
      "source": [
        "# partimos de un diccionario vacio y vamos agregando los pares clave-valor\n",
        "diccionario = {}"
      ],
      "metadata": {
        "id": "yrObDwJLAGd9"
      },
      "execution_count": null,
      "outputs": []
    },
    {
      "cell_type": "markdown",
      "source": [
        "##### 4.4.7 Eliminando un par clave-valor"
      ],
      "metadata": {
        "id": "Cu9EgY_IBL5Z"
      }
    },
    {
      "cell_type": "code",
      "source": [
        "# se elimina con la clave\n",
        "diccionario = {\n",
        "    \"nombre\": \"Juan\",\n",
        "    \"edad\": 30,\n",
        "    \"altura\": 1.75,\n",
        "    \"ciudad\": \"New York\"\n",
        "}"
      ],
      "metadata": {
        "id": "9P0sxmZjKKvg"
      },
      "execution_count": null,
      "outputs": []
    },
    {
      "cell_type": "code",
      "source": [
        "del diccionario[\"edad\"]\n",
        "diccionario"
      ],
      "metadata": {
        "id": "ORIgzONdKSzV"
      },
      "execution_count": null,
      "outputs": []
    },
    {
      "cell_type": "markdown",
      "source": [
        "**Atencion:** si la clave no existe da error."
      ],
      "metadata": {
        "id": "3WH1g6fJND-R"
      }
    },
    {
      "cell_type": "markdown",
      "source": [
        "##### 4.4.8 Métodos útiles"
      ],
      "metadata": {
        "id": "KTiinTFBLKHr"
      }
    },
    {
      "cell_type": "markdown",
      "source": [
        "Python proporciona varios métodos útiles para trabajar con diccionarios:"
      ],
      "metadata": {
        "id": "KcsUow1GL3P2"
      }
    },
    {
      "cell_type": "code",
      "source": [
        "diccionario = {\n",
        "    \"nombre\": \"Juan\",\n",
        "    \"edad\": 30,\n",
        "    \"altura\": 1.75,\n",
        "    \"ciudad\": \"New York\"\n",
        "}"
      ],
      "metadata": {
        "id": "QhObA-DyLOGA"
      },
      "execution_count": null,
      "outputs": []
    },
    {
      "cell_type": "code",
      "source": [
        "# keys: devuelve una vista de las claves del diccionario.\n",
        "diccionario.keys()"
      ],
      "metadata": {
        "id": "g_8-o-bsL7-r"
      },
      "execution_count": null,
      "outputs": []
    },
    {
      "cell_type": "code",
      "source": [
        "# values: devuelve una vista de los valores del diccionario.\n",
        "diccionario.values()"
      ],
      "metadata": {
        "id": "JUUAE5YFMGhk"
      },
      "execution_count": null,
      "outputs": []
    },
    {
      "cell_type": "code",
      "source": [
        "# items: devuelve una vista de los pares clave-valor del diccionario.\n",
        "diccionario.items()"
      ],
      "metadata": {
        "id": "Z1rmUK2EMM_Y"
      },
      "execution_count": null,
      "outputs": []
    },
    {
      "cell_type": "code",
      "source": [
        "# get: Devuelve el valor para una clave dada, o None si la clave no existe.\n",
        "diccionario.get(\"edad\")"
      ],
      "metadata": {
        "id": "UxalL-NKMReA"
      },
      "execution_count": null,
      "outputs": []
    },
    {
      "cell_type": "code",
      "source": [
        "# get - Que pasa si la key no esta?\n",
        "clave = diccionario.get(\"dni\")\n",
        "print(clave)"
      ],
      "metadata": {
        "id": "wCME9UybM5lw"
      },
      "execution_count": null,
      "outputs": []
    },
    {
      "cell_type": "code",
      "source": [
        "# get - si quiero que retorne otro valor?"
      ],
      "metadata": {
        "id": "qunD7tCQM-oC"
      },
      "execution_count": null,
      "outputs": []
    },
    {
      "cell_type": "code",
      "source": [
        "# update: Actualiza el diccionario con los pares clave-valor de otro\n",
        "# diccionario o con pares clave-valor proporcionados como argumentos\n",
        "diccionario.update({\"peso\": 70, \"ciudad\": \"Paris\"})\n",
        "diccionario"
      ],
      "metadata": {
        "id": "19-uVYUwMYNg"
      },
      "execution_count": null,
      "outputs": []
    },
    {
      "cell_type": "code",
      "source": [
        "dic_a = {\"a\": 1, \"b\": 2}\n",
        "dic_b = {\"c\": 3, \"d\": 4}\n",
        "dic_a.update(dic_b)\n",
        "dic_a"
      ],
      "metadata": {
        "id": "x3CZFT_XLZuG"
      },
      "execution_count": null,
      "outputs": []
    },
    {
      "cell_type": "code",
      "source": [
        "# cantidad de pares clave-valor - len\n",
        "len(diccionario)"
      ],
      "metadata": {
        "id": "6uR-Vr35Kymd"
      },
      "execution_count": null,
      "outputs": []
    },
    {
      "cell_type": "code",
      "source": [
        "# eliminar un par clave-valor -- si la clave no esta, da error\n",
        "diccionario.pop(\"altura\")"
      ],
      "metadata": {
        "id": "gOVfk4c7N-tJ"
      },
      "execution_count": null,
      "outputs": []
    },
    {
      "cell_type": "markdown",
      "source": [
        "⁉️  -- Preguntas??"
      ],
      "metadata": {
        "id": "fOh_JUwtKQxG"
      }
    }
  ]
}