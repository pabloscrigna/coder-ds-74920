{
  "nbformat": 4,
  "nbformat_minor": 0,
  "metadata": {
    "colab": {
      "provenance": []
    },
    "kernelspec": {
      "name": "python3",
      "display_name": "Python 3"
    },
    "language_info": {
      "name": "python"
    }
  },
  "cells": [
    {
      "cell_type": "markdown",
      "source": [
        "# Introducción al aprendizaje supervisado"
      ],
      "metadata": {
        "id": "1g9oEsKnAQLA"
      }
    },
    {
      "cell_type": "markdown",
      "source": [
        "**¿Qué es el aprendizaje supervisado?**\n",
        "\n",
        "El aprendizaje supervisado es una técnica dentro del campo del machine learning que se enfoca en entrenar algoritmos utilizando datos etiquetados. Esto significa que cada ejemplo en el conjunto de datos de entrenamiento incluye tanto la entrada como la salida correcta. Durante el entrenamiento, el algoritmo aprende a mapear entradas a las salidas correctas, de tal manera que pueda predecir el resultado para datos nuevos y no vistos previamente."
      ],
      "metadata": {
        "id": "o-IMBPK3AWDt"
      }
    },
    {
      "cell_type": "markdown",
      "source": [
        "**Tipos de problemas**"
      ],
      "metadata": {
        "id": "8ZTs4EdxAyqT"
      }
    },
    {
      "cell_type": "markdown",
      "source": [
        "En el aprendizaje supervisado, existen dos tipos principales de problemas: `clasificación` y `regresión`.\n",
        "\n",
        "***Problemas de Clasificación:*** Se ocupan de predecir categorías o clases discretas. En estos problemas, la `variable` objetivo es `categorica`, lo que significa que los resultados se agrupan en clases. Ejemplos comunes incluyen la detección de spam (spam/no spam), diagnóstico médico (enfermo/no enfermo) y clasificación de imágenes (gato/perro).\n",
        "\n",
        "***Problemas de Regresión:*** En contraste, los problemas de regresión predicen valores numéricos continuos. Aquí, la variable `objetivo` es `cuantitativa`. Ejemplos de problemas de regresión incluyen la predicción de precios de viviendas, la estimación de la demanda de productos, y la proyección de ingresos futuros.\n",
        "\n",
        "El tipo de problema que enfrentamos determina el enfoque y los algoritmos que utilizaremos. Por ejemplo, para un problema de clasificación, podríamos usar algoritmos como árboles de decisión o regresión logística. En cambio, para un problema de regresión, podríamos optar por modelos como la regresión lineal."
      ],
      "metadata": {
        "id": "Yk6JOb1jAhjP"
      }
    }
  ]
}